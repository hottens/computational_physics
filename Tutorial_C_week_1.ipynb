{
  "nbformat": 4,
  "nbformat_minor": 0,
  "metadata": {
    "colab": {
      "name": "Tutorial_C_week_1.ipynb",
      "version": "0.3.2",
      "provenance": []
    },
    "kernelspec": {
      "name": "python3",
      "display_name": "Python 3"
    }
  },
  "cells": [
    {
      "cell_type": "markdown",
      "metadata": {
        "id": "Mu1bcYlA3A86",
        "colab_type": "text"
      },
      "source": [
        "#Tutorial C: Data handling and visualization in Python\n",
        "###Aims of this tutorial:\n",
        "- More practice on list operations \n",
        "\n",
        "and to get familiar with \n",
        "\n",
        "- linear algebra operations of arrays with *numpy* \n",
        "\n",
        "- Saving and loading objects in binary format with *pickle* \n",
        "\n",
        "- Plotting techniques with *matplotlib* \n",
        "- Making animated plots with *matplotlib*\n",
        "\n",
        "\n",
        "\n",
        "\n",
        "\n",
        "\n",
        "\n",
        "\n"
      ]
    },
    {
      "cell_type": "markdown",
      "metadata": {
        "id": "pPpajzzTS82X",
        "colab_type": "text"
      },
      "source": [
        "###List operations\n",
        "\n",
        "Python has a set of built-in methods and functions that you can use on lists. Below you can see some examples. \n",
        "\n",
        "Python includes the following list methods:\n",
        "\n",
        "* `list_name.append(obj)` adds `obj` to the end of the list\n",
        "* `list_name.clear()`\tremoves all the elements from the list\n",
        "* `list_name.remove(obj)` removes `obj` from list\n",
        "* `list_name.count(obj)`\treturns the number of `obj` in the list\n",
        "* `list_name.sort()` sorts the list\n",
        "* `list_name.reverse()`\treverses the order of the list\n",
        "* `list_name.index(obj)` searches `obj` in the list and returns its index\n",
        "* `list_name.insert(index,obj)` inserts `obj` into list at offset index\n",
        "\n",
        "\n",
        "There are several functions that can take lists as arguments:\n",
        "\n",
        "* len(list_name) returns the list length\n",
        "* max(list_name) and min(list_name) return the maximum and minimum values in the list\n",
        "* sum(list_name) returns the sum of the values in the list\n",
        "\n",
        "\n",
        "Define an arbitrary list A for yourself and apply the above methods and functions on it. \n",
        " \n",
        "####Example:\n",
        "\n",
        "`A.sort()` sorts list A and `len(A)` returns its length. Check out [this page](https://www.tutorialspoint.com/python3/python_lists) for more examples.\n",
        "\n",
        "#### Exercise 1:\n",
        "Consider the following list of numbers.\n",
        "\n",
        "```\n",
        "A=[1,3,2,4,2,2,5,4,5,6,7]\n",
        "```\n",
        "\n",
        "1. Sort the list and then print the maximum and minimum values and their corresponding indices.\n",
        "\n",
        "2. Replace the maximum value in the list with the minimum value.\n",
        "\n",
        "\n",
        "\n",
        "\n",
        "\n",
        "\n",
        "\n"
      ]
    },
    {
      "cell_type": "code",
      "metadata": {
        "id": "fOktdXQiCigH",
        "colab_type": "code",
        "colab": {}
      },
      "source": [
        "# write your code here"
      ],
      "execution_count": 0,
      "outputs": []
    },
    {
      "cell_type": "markdown",
      "metadata": {
        "id": "UAUr04fCf1Wv",
        "colab_type": "text"
      },
      "source": [
        "#### Excersise 2:\n",
        "Consider the following list of names.\n",
        "\n",
        "```\n",
        "names=['Jelke','Lennart','Jelte','Richard','Jip','Alberto','Jeroen','Jelle']\n",
        "```\n",
        "\n",
        "1. Write a code to print all the names in the list that start with letter `J`.\n",
        "\n",
        "2. Write a code to print the number of `e` letters in the names that start with letter `J`. *Hint: use count() operation*.\n"
      ]
    },
    {
      "cell_type": "code",
      "metadata": {
        "id": "ryxM4pa4H_lk",
        "colab_type": "code",
        "colab": {}
      },
      "source": [
        "# write your code here"
      ],
      "execution_count": 0,
      "outputs": []
    },
    {
      "cell_type": "markdown",
      "metadata": {
        "id": "KtdJ_5lZyyTK",
        "colab_type": "text"
      },
      "source": [
        "###The basics of Arrays\n",
        "\n",
        "Data manipulation in Python is nearly synonymous with NumPy array manipulation. This section will present several examples of using NumPy array manipulation to access data and subarrays, and to reshape, and join the arrays. \n",
        "\n",
        "We'll cover a few categories of basic array manipulations here:\n",
        "\n",
        "- *Attributes of arrays*: Determining the size, shape, memory consumption, and data types of arrays\n",
        "- *Indexing of arrays*: Getting and setting the value of individual array elements\n",
        "- *Slicing of arrays*: Getting and setting smaller subarrays within a larger array\n",
        "- *Reshaping of arrays*: Changing the shape of a given array\n",
        "- *Joining of arrays*: Combining multiple arrays into one"
      ]
    },
    {
      "cell_type": "markdown",
      "metadata": {
        "id": "nINRZpaGcIvy",
        "colab_type": "text"
      },
      "source": [
        "#### NumPy Array Attributes\n",
        "\n",
        "First let's discuss some useful array attributes. you will start by defining three random arrays, a one-dimensional, two-dimensional, and three-dimensional array. You will use NumPy's random number generator, which you will seed with a set value in order to ensure that the same random arrays are generated each time this code is run. \n",
        "\n",
        "\n",
        "1. `import numpy as np`\n",
        "\n",
        "2. Seed the random number generator with a set value\n",
        "```\n",
        "np.random.seed(0)\n",
        "```\n",
        "3.Define the following arrays\n",
        "\n",
        "```\n",
        "x1 = np.random.randint(10, size=6)  # One-dimensional array\n",
        "x2 = np.random.randint(10, size=(3, 4))  # Two-dimensional array\n",
        "x3 = np.random.randint(10, size=(3, 4, 5))  # Three-dimensional array\n",
        "```\n",
        "4. Print `x1`, `x2`, and `x3` and explain the syntaxes in the previous part.\n",
        "\n",
        "5. Each array has attributes `ndim` (the number of dimensions), `shape` (the size of each dimension), and `size` (the total size of the array). Print `array_name.ndim` , `array_name.shape`, and `array_name.size` for `x1`, `x2`, and `x3`."
      ]
    },
    {
      "cell_type": "code",
      "metadata": {
        "id": "9EY0JkaNcYsA",
        "colab_type": "code",
        "colab": {}
      },
      "source": [
        "# write your code here"
      ],
      "execution_count": 0,
      "outputs": []
    },
    {
      "cell_type": "markdown",
      "metadata": {
        "id": "6SJ18c9neqf7",
        "colab_type": "text"
      },
      "source": [
        "####Array indexing\n",
        "Indexing in NumPy is quite similar to standard list indexing (see tutorial 1: Basics of Python). In a one-dimensional array, the $i^{th}$ value (counting from zero) can be accessed by specifying the desired index in square brackets, just as with Python lists. To index from the end of the array, you can use negative indices. \n",
        "\n",
        "\n",
        "1. Print the first and last components of `x1`. \n",
        "\n",
        "\n",
        "2. In a multi-dimensional array, items can be accessed using a comma-separated tuple of indices. For example print the element in row 1 column 2 of `x2`.\n",
        "\n",
        "3. Values of an array can be modified the notation you use for indexing. For example you can change the value in the first row first column of `x2` with `x2[0,0]=new_number`.\n",
        "\n",
        "4. Keep in mind that, unlike Python lists, NumPy arrays have a fixed type. This means, for example, that if you attempt to insert a floating-point value to an integer array, the value will be silently truncated. Don't be caught unaware by this behavior! \n",
        "\n",
        ">>**For example:** modify the first element of `x1` (which is an integer array) to `3.14` and then print `x1`. \n",
        "\n",
        "5. The other difference between a list and an array is the functions that you can perform to them. Create the following list and array. Multiply/divide both by 2 and print the results for each case to see the difference.  \n",
        "\n",
        ">```\n",
        "A=np.array([1, 2, 3, 4])\n",
        "B=list[1,2,3,4]\n",
        "\n",
        ">```\n",
        "\n",
        "\n",
        "\n",
        "\n"
      ]
    },
    {
      "cell_type": "code",
      "metadata": {
        "id": "4Gu8Hw3bFcAw",
        "colab_type": "code",
        "colab": {}
      },
      "source": [
        "# write your code here"
      ],
      "execution_count": 0,
      "outputs": []
    },
    {
      "cell_type": "markdown",
      "metadata": {
        "id": "c_8plfOFmQla",
        "colab_type": "text"
      },
      "source": [
        "####Array Slicing: Accessing Subarrays\n",
        "\n",
        "Just as we can use square brackets to access individual array elements, we can also use them to access subarrays with the *slice* notation, marked by the colon (``:``) character.\n",
        "The NumPy slicing syntax follows that of the standard Python list; to access a slice of an array ``x``, use this:\n",
        "``` python\n",
        "x[start:stop:step]\n",
        "```\n",
        "If any of these are unspecified, they default to the values ``start=0``, ``stop=``*``size of dimension``*, ``step=1``.\n",
        "We'll take a look at accessing sub-arrays in one dimension and in multiple dimensions.\n",
        "\n",
        "\n",
        "1. Create a one-dimensional array with `x=np.arange(10)`. Print `x[:5]`, `x[5:]`, `x[4:7]`, `x[::2]`, `x[1::2]` and explain the output for each case.\n",
        "\n",
        "2. Multi-dimensional slices work in the same way, with multiple slices separated by commas. For example for `x2` print `x2[:2, :3]`, `x2[:3, ::2]`. Explain which rows and columns are printed.\n",
        "\n",
        "3. One commonly needed routine is accessing of single rows or columns of an array. This can be done by combining indexing and slicing, using an empty slice marked by a single colon (:). For example, to print the first column and first row of `x2` you can use `x2[:, 0]` and `x2[0, :]` respectively.\n"
      ]
    },
    {
      "cell_type": "code",
      "metadata": {
        "id": "EuyTxRLjHibq",
        "colab_type": "code",
        "colab": {}
      },
      "source": [
        "# write your code here\n"
      ],
      "execution_count": 0,
      "outputs": []
    },
    {
      "cell_type": "markdown",
      "metadata": {
        "id": "mfa_jdZVq7VI",
        "colab_type": "text"
      },
      "source": [
        "#### Creating copies of arrays\n",
        "It is sometimes useful to instead explicitly copy the data within an array or a subarray. This can be most easily done with the `array_name.copy()` method. \n",
        "\n",
        "**For exmaple:**\n",
        "\n",
        "`x2_first_column=x2[:,0].copy()` makes a subarray containing the first column of  `x2`.\n",
        "\n",
        "\n",
        "**Important note:** similar to creating copies of lists in the first tutorial, without using `.copy()` if you modify the subarray `x2_first_column`, you'll see that the original array is also changed! \n",
        "\n",
        "\n"
      ]
    },
    {
      "cell_type": "markdown",
      "metadata": {
        "id": "Cf3gq4nOvRNf",
        "colab_type": "text"
      },
      "source": [
        "## Array Concatenation and reshaping\n",
        "\n",
        "\n",
        "### Concatenation of arrays\n",
        "\n",
        "Concatenation, or joining of two arrays in NumPy, is primarily accomplished using the routines ``np.concatenate``. \n",
        "\n",
        "1. Create the following two one-dimensional arrays and join them together with `np.concatenate([x, y])`\n",
        "\n",
        "```\n",
        "x = np.array([1, 2, 3])\n",
        "y = np.array([3, 2, 1])\n",
        "```\n",
        "2. Create the following two-dimensional arrays and merge them together with `np.concatenate([A, B])` and `np.concatenate([A, B], axis=1)`. Explain what the `axis` option does in this case?\n",
        "\n",
        "```\n",
        "A = np.array([[1, 2, 3],[1, 2, 3]])\n",
        "B = np.array([[4, 5, 6],[4, 5, 6]])\n",
        "\n",
        "```\n",
        "\n",
        "For working with arrays of mixed dimensions, it can be clearer to use the np.vstack (vertical stack) and np.hstack (horizontal stack) functions. Merge the following one- and two-dimensional arrays vertically and horizontally with `np.vstack([x, A])` and `np.hstack([y, A])`.\n",
        "\n",
        "```\n",
        "x = np.array([1, 2, 3])\n",
        "y= np.array([[1],[2]])\n",
        "A = np.array([[9, 8, 7],[6, 5, 4]])\n",
        "```\n",
        "### Reshaping of Arrays\n",
        "\n",
        "Another useful type of operation is reshaping of arrays.\n",
        "The most flexible way of doing this is with the ``reshape`` method. For example, if you want to put the numbers 1 through 9 in a 3$\\times$3 grid, you can do the following:\n",
        "```\n",
        "A = np.arange(1, 10).reshape((3, 3))\n",
        "```\n",
        "\n",
        "#### Excercise\n",
        "\n",
        "Use what you have learned in previous sections to obtain array $D$ from arrays $A$, $B$, and $C$. Can you you do it in a single line?\n",
        "\n",
        "$$\n",
        "A=\\begin{bmatrix} \n",
        "1 & 2 & 3 \\\\\n",
        "4 & 5 & 6 \\\\\n",
        "7 & 8 & 9\n",
        "\\end{bmatrix},\n",
        "B=\\begin{bmatrix} \n",
        "10 & 11 & 12 \\\\\n",
        "13 & 14 & 15 \\\\\n",
        "16 & 17 & 18\n",
        "\\end{bmatrix},\n",
        "C=\\begin{bmatrix} \n",
        "19 \\\\\n",
        "20  \\\\\n",
        "21 \n",
        "\\end{bmatrix}\\\\\n",
        "D=\\begin{bmatrix} \n",
        "1 & 2 & 3 & 4 & 5 & 6&19 \\\\\n",
        "13 & 14 & 15&16&17&18&20 \n",
        "\\end{bmatrix}\n",
        "$$\n",
        "\n",
        "\n",
        " \n"
      ]
    },
    {
      "cell_type": "code",
      "metadata": {
        "id": "_fCC_DFb6RL0",
        "colab_type": "code",
        "colab": {}
      },
      "source": [
        "# write your code here"
      ],
      "execution_count": 0,
      "outputs": []
    },
    {
      "cell_type": "markdown",
      "metadata": {
        "id": "tfNTjYDd8blp",
        "colab_type": "text"
      },
      "source": [
        "###Numpy practice and some linear algebra\n",
        "As you learned in Tutorial 1, the numpy array belongs to the ndarray class, which represents vectors and matrices. Variables of the ndarray class can be used directly in vector and matrix computations. You can import numpy with `import numpy as np`.\n",
        "\n",
        "1. Generate the following two vectors and print their inner and cross products with `np.dot(A,B)` and `np.cross(A,B)`.  \n",
        "\n",
        "```\n",
        "A=np.array([1,2,3])\n",
        "B=np.array([4,5,6])\n",
        "\n",
        "```\n",
        "\n",
        "**Note:** you can also perform matrix multiplication with `np.dot(matrix1,matrix2)`.\n",
        "\n",
        "\n",
        "To perform more matrix operations you can use `linalg` which is a numpy sub-package. For example `np.linalg.inv(array_name)` computes the inverse of an array or `x=np.linalg.det(array_name)` computes the determinant of an array. \n",
        "\n",
        "2. Obtain the inverse of the following 3$\\times$3 matrix. As a general check, applicable even if you do not know the analytic answer, check your inverse in both directions; that is, check that  $AA^{−1}=A^{−1}A=I$, and note the number of decimal places to which this is true. This also gives you some idea of the precision of your calculation.  \n",
        "\n",
        "```\n",
        "   A=np.array([[4, -2, 1], [3, 6, -4], [2, 1, 8]])\n",
        "\n",
        "```\n",
        "\n",
        "3. Consider the same matrix  $A$  as before, here being used to describe three simultaneous linear equations,  $Ax=b$ , or explicitly,\n",
        "$$\n",
        "\\begin{bmatrix} \n",
        "a_{00} & a_{01} & a_{02} \\\\\n",
        "a_{10} & a_{11} & a_{12} \\\\\n",
        "a_{20} & a_{21} & a_{22}\n",
        "\\end{bmatrix}\n",
        "\\begin{bmatrix} \n",
        "x_{0}  \\\\\n",
        "x_{1}  \\\\\n",
        "x_{2} \n",
        "\\end{bmatrix}\n",
        "=\\begin{bmatrix} \n",
        "b_{0}  \\\\\n",
        "b_{1}  \\\\\n",
        "b_{2} \n",
        "\\end{bmatrix}\n",
        "$$\n",
        "Now the vector  b  on the RHS is assumed known, and the problem is to solve for the vector  $x$. Use `np.linalg.solve(A, b)` to solve these equations for the two different $x$ vectors appropriate to these two different $b$ values on the RHS:\n",
        "$$\n",
        "b_{1}=\\begin{bmatrix} \n",
        "12 \\\\\n",
        "-25 \\\\\n",
        "32\n",
        "\\end{bmatrix}\n",
        ", b_{2}=\\begin{bmatrix} \n",
        "4 \\\\\n",
        "-10 \\\\\n",
        "22\n",
        "\\end{bmatrix}\n",
        "$$\n",
        "\n",
        "**Note:** It might be easier to make an alias for the `linalg` sub-package with `from numpy import linalg  as LA`. Then to take the inverse of an array you just need to use `LA.inv(array_name)`.\n",
        "\n",
        "4. Find the eigenvalues and eigenvectors of the following matrix with `np.linalg.eig(array_name)`. To have the eigrn values and eigenvectors in different arrays you can use `w, v=np.linalg.eig(array_name)`\n",
        "$$\n",
        "\\begin{bmatrix} \n",
        "-2 & 2 & -3 \\\\\n",
        "2 & 1 & -6 \\\\\n",
        "-1 & -2 & 0\n",
        "\\end{bmatrix}\n",
        "$$\n",
        "Verify that you obtain the eigenvalues $ λ1=5$, $λ2=λ3=−3$ . Notice that double roots can cause problems. In particular, there is a uniqueness issue with their eigenvectors because any combination of these eigenvectors is also an eigenvector. \n",
        "\n",
        "For more matrix operations and linear algebra excerices check out [this page](https://docs.scipy.org/doc/numpy-1.13.0/reference/routines.linalg.html)."
      ]
    },
    {
      "cell_type": "code",
      "metadata": {
        "id": "xGDhyApJ-fns",
        "colab_type": "code",
        "colab": {}
      },
      "source": [
        "# write your code here\n"
      ],
      "execution_count": 0,
      "outputs": []
    },
    {
      "cell_type": "code",
      "metadata": {
        "id": "PhRwjeW_DNxj",
        "colab_type": "code",
        "colab": {}
      },
      "source": [
        "# write your code here\n"
      ],
      "execution_count": 0,
      "outputs": []
    },
    {
      "cell_type": "markdown",
      "metadata": {
        "id": "GHs-wR4lR4D1",
        "colab_type": "text"
      },
      "source": [
        "###Excercise\n",
        "\n",
        "Imagine that your model of some physical system results in N = 100 coupled linear equations in N unknowns:\n",
        "\n",
        "$$\n",
        "a_{00}x_{0}+a_{01}x_{1}+...+a_{0(N-1)}x_{N-1}=b_{0}\\\\\n",
        "a_{10}x_{0}+a_{11}x_{1}+...+a_{1(N-1)}x_{N-1}=b_{1}\\\\\n",
        "...\\\\\n",
        "...\\\\\n",
        "...\\\\\n",
        "a_{(N-1)0}x_{0}+a_{(N-1)1}x_{1}+...+a_{(N-1)(N-1)}x_{N-1}=b_{N-1}\n",
        "$$\n",
        "\n",
        "\n",
        "\n",
        "In many cases, the $A$ and $b$ values are known, so your exercise is to solve for all the $x$ values, taking $A$ as the Hilbert matrix and $b$ as its first column:\n",
        "\n",
        "$$\n",
        "A=[a_{ij}]=[\\frac{1}{i+j-1}]=\n",
        "\\begin{bmatrix} \n",
        "1 & \\frac{1}{2} & \\frac{1}{3}  &...& \\frac{1}{100} \\\\\n",
        "\\frac{1}{2} & \\frac{1}{3} & \\frac{1}{4}  &...& \\frac{1}{101} \\\\\n",
        ".&.&.&...&.\\\\\n",
        ".\\\\\n",
        "\\frac{1}{100} & \\frac{1}{101} & \\frac{1}{102}  &...& \\frac{1}{199} \\\\\n",
        "\\end{bmatrix}\\\\\n",
        "\\\\\n",
        "b=[b_{i}]=[\\frac{1}{i}]=\n",
        "\\begin{bmatrix} \n",
        "1  \\\\\n",
        "\\frac{1}{2}  \\\\\n",
        ".\\\\\n",
        ".\\\\\n",
        "\\frac{1}{100}  \\\\\n",
        "\\end{bmatrix}\\\\\n",
        "$$\n",
        "\n",
        "First generate $A$ and $b$ and then solve for vector $x$. Compare to the analytic solution:\n",
        "\n",
        "$$\n",
        "\\begin{bmatrix} \n",
        "x_{0} \\\\\n",
        "x_{1} \\\\\n",
        ".\\\\\n",
        ".\\\\\n",
        "x_{N-1}\n",
        "\\end{bmatrix}\n",
        "=\\begin{bmatrix} \n",
        "1 \\\\\n",
        "0 \\\\\n",
        ".\\\\\n",
        ".\\\\\n",
        "0\n",
        "\\end{bmatrix}\n",
        "$$\n",
        "\n"
      ]
    },
    {
      "cell_type": "code",
      "metadata": {
        "id": "0DoRKxELzena",
        "colab_type": "code",
        "colab": {}
      },
      "source": [
        "# write your code here"
      ],
      "execution_count": 0,
      "outputs": []
    },
    {
      "cell_type": "markdown",
      "metadata": {
        "id": "OXt8j0RGGdLM",
        "colab_type": "text"
      },
      "source": [
        "##Saving and loading objects\n",
        "To write/read a **string** to a file you can use either of the following syntaxes. In the first case it is important to close the file when you are done with it.\n",
        "\n",
        "```\n",
        "fileObject = open(\"welcome.txt\",\"w\")\n",
        "fileObject.write(\"some_string\")\n",
        "fileObject.close() \n",
        "```\n",
        "or\n",
        "```\n",
        "with open(\"welcome.txt\", \"w\") as fileObject:\n",
        "  fileObject.write(\"some_string\")\n",
        "```\n",
        "To read a file you can use either of the following syntax:\n",
        "\n",
        "```\n",
        "fileObject = open(\"welcome.txt\",\"r\")\n",
        "data = fileObject.read()\n",
        "fileObject.close()  \n",
        "```\n",
        "\n",
        "or\n",
        "\n",
        "```\n",
        "with open(\"welcome.txt\",\"r\") as fileObject: \n",
        "  data = fileObject.read()\n",
        "```\n",
        "\n",
        "However, you might want to also save python objects (lists, arrays. ...) to a file, so you can use them later on or send them to someone else. This is what Python's pickle module is for: it serializes objects so they can be saved to a file, and loaded in a program again later on. \n",
        "\n",
        "####Example:\n",
        "\n",
        "Make an arbitrary list `A` and follow these steps to write it to `file_name`:\n",
        "\n",
        "1. Import pickle package\n",
        "\n",
        "2. Open a file for writing. Here we use \"wb\" letters in our argument, which indicates writing in binary format\n",
        "3. Write the object (here list `A`) to the file.\n",
        "\n",
        "4. Close the fileObject\n",
        "\n",
        "```\n",
        "import pickle\n",
        "A=[1,2,3]\n",
        "fileObject = open(\"file_Name\",'wb')\n",
        "pickle.dump(A,fileObject)\n",
        "fileObject.close() \n",
        "```\n",
        "To read the `file_name`, follow these steps:\n",
        "\n",
        "1. Open `file_name` for reading\n",
        "2. Read the fileObject\n",
        "3. Close the fileObject\n",
        "\n",
        "```\n",
        "fileObject = open(\"file_Name\",'rb')           \n",
        "B=pickle.load(fileObject)\n",
        "fileObject.close()\n",
        "```\n",
        "\n",
        "To make sure that you successfully unpickled the list, you can print `B` and compare it to list `A`.\n",
        "\n",
        "```\n",
        "print(B)\n",
        "print(A==B)\n",
        "```\n",
        "\n",
        "**Note 1:** you can also open a file for writing/reading in the following way.\n",
        "\n",
        "```\n",
        "with open (\"file_name\", 'wb') as fileObject:\n",
        "  pickle.dump(A,fileObject)\n",
        "  \n",
        "with open(\"file_name\",'rb') as fileObject:\n",
        "  B=pickle.load(fileObject)\n",
        "```\n",
        "**Note 2**:\n",
        "to save/load arrays you can also use `numpy.save(file_name,array_name)` and `numpy.load(file_name)`. A `.npy` extension will be appended to the file name if it does not already have one.\n",
        "\n",
        "####Exercise:\n",
        "\n",
        "Create a 1000$\\times$1000 array containing randome integers between 0 to 10. Save and then load the arrays with both pickle and numpy packages to make sure both methods result in the same array. \n"
      ]
    },
    {
      "cell_type": "code",
      "metadata": {
        "id": "FcwtdRUAQnQi",
        "colab_type": "code",
        "outputId": "9818a281-3faa-4472-bf63-d01299ebb11f",
        "colab": {
          "base_uri": "https://localhost:8080/",
          "height": 34
        }
      },
      "source": [
        "# write your code here"
      ],
      "execution_count": 0,
      "outputs": [
        {
          "output_type": "stream",
          "text": [
            "True\n"
          ],
          "name": "stdout"
        }
      ]
    },
    {
      "cell_type": "code",
      "metadata": {
        "id": "JaCSJPyxyNjH",
        "colab_type": "code",
        "colab": {}
      },
      "source": [
        "# write your code here"
      ],
      "execution_count": 0,
      "outputs": []
    },
    {
      "cell_type": "markdown",
      "metadata": {
        "id": "f84Uqg75MrD3",
        "colab_type": "text"
      },
      "source": [
        "##Visualization with matplotlib\n",
        "\n",
        "We'll now take a look at the Matplotlib package for visualization in Python. Matplotlib is a multi-platform data visualization library built on NumPy arrays. One of Matplotlib’s most important features is its ability to play well with many operating systems and graphics backends. Matplotlib supports dozens of backends and output types, which means you can count on it to work regardless of which operating system you are using or which output format you wish. \n",
        "\n",
        "1. Just as we use the np shorthand for NumPy, we will use some standard shorthands for Matplotlib imports:\n",
        "\n",
        "```\n",
        "import matplotlib as mpl\n",
        "import matplotlib.pyplot as plt\n",
        "```\n",
        "The ``plt`` interface is what we will use most often.\n",
        "\n",
        "2. To embed graphics directly in the notebook, you need to use the following command:\n",
        "```\n",
        "%matplotlib inline \n",
        "```\n",
        "\n",
        "This command line will lead to static images of your plot embedded in the notebook. After running this command (it needs to be done only once per kernel/session), any cell within the notebook that creates a plot will embed a PNG image of the resulting graphic:\n",
        "\n"
      ]
    },
    {
      "cell_type": "code",
      "metadata": {
        "id": "hQTFpreUSORs",
        "colab_type": "code",
        "colab": {}
      },
      "source": [
        "%matplotlib inline "
      ],
      "execution_count": 0,
      "outputs": []
    },
    {
      "cell_type": "code",
      "metadata": {
        "id": "s8n_3W8BN7x-",
        "colab_type": "code",
        "colab": {}
      },
      "source": [
        "import matplotlib.pyplot as plt\n",
        "import numpy as np\n",
        "\n",
        "x = np.linspace(0, 10, 100)\n",
        "\n",
        "fig=plt.figure() #creates a figure window\n",
        "\n",
        "\n",
        "plt.plot(x,np.sin(x),color='black')\n",
        "plt.plot(x,np.cos(x),color='red')"
      ],
      "execution_count": 0,
      "outputs": []
    },
    {
      "cell_type": "markdown",
      "metadata": {
        "id": "seoGxAH3O2M3",
        "colab_type": "text"
      },
      "source": [
        "**Note:** If you are plotting from a script you need to add `plt.show` to the end of the above script. `plt.show()` command should be used only once per Python session, and is most often seen at the very end of the script. Multiple `show()` commands can lead to unpredictable backend-dependent behavior, and should mostly be avoided."
      ]
    },
    {
      "cell_type": "markdown",
      "metadata": {
        "id": "v5wI1_U8Q376",
        "colab_type": "text"
      },
      "source": [
        "### Saving Figures to File\n",
        "\n",
        "One nice feature of Matplotlib is the ability to save figures in a wide variety of formats.\n",
        "Saving a figure can be done using the ``savefig()`` command.\n",
        "For example, to save the previous figure as a PNG file, you can run this:\n",
        "\n",
        "```\n",
        "fig.savefig('my_figure.png')\n",
        "```\n",
        "To know the list of supported file types for your system use the following command:\n",
        "\n",
        "```\n",
        "fig.canvas.get_supported_filetypes()\n",
        "```\n"
      ]
    },
    {
      "cell_type": "code",
      "metadata": {
        "id": "_ueL5PdcDj-T",
        "colab_type": "code",
        "colab": {}
      },
      "source": [
        "fig.savefig('my_figure.png')\n",
        "fig.canvas.get_supported_filetypes()"
      ],
      "execution_count": 0,
      "outputs": []
    },
    {
      "cell_type": "markdown",
      "metadata": {
        "id": "tZp00NquVQ_H",
        "colab_type": "text"
      },
      "source": [
        "### Two Interfaces for the Price of One\n",
        "\n",
        "A potentially confusing feature of Matplotlib is its dual interfaces: a convenient MATLAB-style state-based interface, and a more powerful object-oriented interface. We'll quickly highlight the differences between the two here."
      ]
    },
    {
      "cell_type": "markdown",
      "metadata": {
        "id": "RVbltD_gVQ_H",
        "colab_type": "text"
      },
      "source": [
        "#### MATLAB-style Interface\n",
        "\n",
        "Matplotlib was originally written as a Python alternative for MATLAB users, and much of its syntax reflects that fact.\n",
        "The MATLAB-style tools are contained in the pyplot (``plt``) interface.\n",
        "For example, the following code will probably look quite familiar to MATLAB users:"
      ]
    },
    {
      "cell_type": "code",
      "metadata": {
        "id": "9hq1bHLgVQ_I",
        "colab_type": "code",
        "colab": {}
      },
      "source": [
        "plt.figure()  # create a plot figure\n",
        "\n",
        "# create the first of two panels and set current axis\n",
        "plt.subplot(2, 1, 1) # (rows, columns, panel number)\n",
        "plt.plot(x, np.sin(x))\n",
        "\n",
        "# create the second panel and set current axis\n",
        "plt.subplot(2, 1, 2)\n",
        "plt.plot(x, np.cos(x));"
      ],
      "execution_count": 0,
      "outputs": []
    },
    {
      "cell_type": "markdown",
      "metadata": {
        "id": "R3y9kR8fVQ_L",
        "colab_type": "text"
      },
      "source": [
        "It is important to note that this interface is *stateful*: it keeps track of the \"current\" figure and axes, which are where all ``plt`` commands are applied.\n",
        "You can get a reference to these using the ``plt.gcf()`` (get current figure) and ``plt.gca()`` (get current axes) routines.\n",
        "\n",
        "While this stateful interface is fast and convenient for simple plots, it is easy to run into problems.\n",
        "For example, once the second panel is created, how can we go back and add something to the first?\n",
        "This is possible within the MATLAB-style interface, but a bit clunky.\n",
        "Fortunately, there is a better way."
      ]
    },
    {
      "cell_type": "markdown",
      "metadata": {
        "id": "EvYZzVbpVQ_M",
        "colab_type": "text"
      },
      "source": [
        "#### Object-oriented interface\n",
        "\n",
        "The object-oriented interface is available for these more complicated situations, and for when you want more control over your figure.\n",
        "Rather than depending on some notion of an \"active\" figure or axes, in the object-oriented interface the plotting functions are *methods* of explicit ``Figure`` and ``Axes`` objects.\n",
        "To re-create the previous plot using this style of plotting, you might do the following:"
      ]
    },
    {
      "cell_type": "code",
      "metadata": {
        "id": "JEU3Oe6AVQ_N",
        "colab_type": "code",
        "colab": {}
      },
      "source": [
        "# First create a grid of plots\n",
        "# ax will be an array of two Axes objects\n",
        "fig, ax = plt.subplots(2)\n",
        "\n",
        "# Call plot() method on the appropriate object\n",
        "ax[0].plot(x, np.sin(x))\n",
        "ax[1].plot(x, np.cos(x));"
      ],
      "execution_count": 0,
      "outputs": []
    },
    {
      "cell_type": "markdown",
      "metadata": {
        "id": "uPw-9S3YVQ_P",
        "colab_type": "text"
      },
      "source": [
        "For more simple plots, the choice of which style to use is largely a matter of preference, but the object-oriented approach can become a necessity as plots become more complicated.\n",
        "Throughout this chapter, we will switch between the MATLAB-style and object-oriented interfaces, depending on what is most convenient.\n",
        "In most cases, the difference is as small as switching ``plt.plot()`` to ``ax.plot()``, but there are a few gotchas that we will highlight as they come up in the following sections."
      ]
    },
    {
      "cell_type": "markdown",
      "metadata": {
        "id": "hSRaZT0PWq8S",
        "colab_type": "text"
      },
      "source": [
        "####Excercise 1\n",
        "\n",
        "1. Plot `sin(x)` for `x = np.linspace(0, 10, 100)`\n",
        "2. Change the default figure size with\n",
        "```\n",
        "fig=plt.figure(figsize=(8, 5))\n",
        "```\n",
        "3. In `plt.plot()` define basic formatting such as: `color`, `linestyle`, `linewidth`, `label`. Check out this link for different formatting options:  https://matplotlib.org/3.1.1/api/_as_gen/matplotlib.pyplot.plot.html\n",
        "\n",
        "**Example:** \n",
        "\n",
        "```plt.plot(x,np.sin(x),label='quadratic',color='red',linewidth=3.0,linestyle='--')```\n",
        "\n",
        "4. Change `x`, `y` axis limits with\n",
        "```\n",
        "plt.xlim(x_min,x_max)\n",
        "plt.ylim(y_min,y_max)\n",
        "```\n",
        "5. Add `title`, `xlabel`, `ylabel` and turn on `grid` and `legend`.\n",
        "```\n",
        "plt.xlim(-2, 12)                                                            \n",
        "plt.ylim(-1.5, 1.5)     \n",
        "plt.xlabel('x')      \n",
        "plt.ylabel('y')\n",
        "plt.title('Title')\n",
        "plt.grid(True)\n",
        "plt.legend() \n",
        "```\n",
        "\n",
        "6. Instead of using `plt.plot()` use `plt.scatter()` to make a scatter plot. Define basic formatting such as: `s` (marker size), `alpha`, `edgecolors`. More options can be found here: https://matplotlib.org/3.1.1/api/_as_gen/matplotlib.pyplot.scatter.html\n",
        "\n",
        "```\n",
        "plt.scatter(x,np.sin(x),label='quadratic',c='green', s=30, alpha=0.8, edgecolors='black') \n",
        "```\n",
        "\n",
        "\n",
        "\n",
        "####Excercise 2\n",
        "\n",
        "Create the following 3D plot:\n",
        "\n",
        "$$\n",
        "z=\\frac{Sin(\\sqrt{x^{2}+y^{2}})}{\\sqrt{x^{2}+y^{2}}}\n",
        "$$\n",
        "\n",
        "by follow these steps:\n",
        "1. First import `Axes3D` from `mpl_toolkits.mplot3d`.\n",
        "\n",
        "```\n",
        "from mpl_toolkits.mplot3d import Axes3D\n",
        "```\n",
        "\n",
        "2. Import numpy and pyplot as usual.\n",
        "\n",
        "```\n",
        "import matplotlib.pyplot as plt\n",
        "import numpy as np\n",
        "```\n",
        "\n",
        "3. Create the figure environment and 3d axis.\n",
        "\n",
        "```\n",
        "fig = plt.figure()\n",
        "ax = fig.gca(projection='3d')\n",
        "```\n",
        "4. Use `np.arange()` to generate `x` and `y` for `-10<x,y<10`.\n",
        "\n",
        "\n",
        "5. Use `X, Y=np.meshgrid(x,y)` to create coordinate matrices from coordinate vectors.\n",
        "\n",
        "\n",
        "6. Compute `Z` and use `plot_wireframe` to create the plot:\n",
        "\n",
        "```\n",
        "ax.plot_wireframe(X, Y, Z)\n",
        "```"
      ]
    },
    {
      "cell_type": "code",
      "metadata": {
        "id": "GzZNQZTfPZhI",
        "colab_type": "code",
        "colab": {}
      },
      "source": [
        "# write your code here"
      ],
      "execution_count": 0,
      "outputs": []
    },
    {
      "cell_type": "code",
      "metadata": {
        "id": "EuQvQYGMR132",
        "colab_type": "code",
        "colab": {}
      },
      "source": [
        "# write your code here"
      ],
      "execution_count": 0,
      "outputs": []
    },
    {
      "cell_type": "code",
      "metadata": {
        "id": "GDvaBvyzk8yd",
        "colab_type": "code",
        "colab": {}
      },
      "source": [
        "# write your code here\n"
      ],
      "execution_count": 0,
      "outputs": []
    },
    {
      "cell_type": "markdown",
      "metadata": {
        "id": "f-ELeCfzOaWR",
        "colab_type": "text"
      },
      "source": [
        "####More plotting examples:\n",
        "\n",
        "For more plotting examples check out [this link](https://matplotlib.org/gallery.html).\n",
        "\n",
        "\n"
      ]
    },
    {
      "cell_type": "markdown",
      "metadata": {
        "id": "Ud0skb3OZdL8",
        "colab_type": "text"
      },
      "source": [
        "###Making animated plots with Matplotlib\n",
        "\n",
        "In this section we use `FuncAnimation` command in `matplotlib.animation` package to make an animated plot. The animations is saved as a .gif file that can be downloded from Files. To watch the gif you can drag it to the address bar of your browser. "
      ]
    },
    {
      "cell_type": "markdown",
      "metadata": {
        "id": "He7vvB7biIuT",
        "colab_type": "text"
      },
      "source": [
        "*  In the example below we make an animated plot of a **damped sine wave** by updating `x` and `y` values for each frame. Run the following code cell and try to understand each line before reading the detailed descriptions in the next section.\n",
        "\n",
        "\n",
        "\n",
        "\n",
        "\n",
        "\n"
      ]
    },
    {
      "cell_type": "code",
      "metadata": {
        "id": "zoY2aj2fZmGs",
        "colab_type": "code",
        "colab": {}
      },
      "source": [
        "import matplotlib.pyplot as plt \n",
        "import matplotlib.animation as animation \n",
        "import numpy as np \n",
        "plt.style.use('dark_background')\n",
        "\n",
        "fig = plt.figure()  \n",
        "ax = plt.axes(xlim=(0, 10), ylim=(-1.2, 1.2)) \n",
        "line, = ax.plot([], [], lw=2) \n",
        "\n",
        "# initialization function \n",
        "def init(): \n",
        "\t# creating an empty plot/frame \n",
        "\tline.set_data([], []) \n",
        "\treturn line, \n",
        "\n",
        "# lists to store x and y axis points \n",
        "xdata, ydata = [], [] \n",
        "\n",
        "# animation function \n",
        "def animate(i): \n",
        "\t# x, y values to be plotted \n",
        "\tx = 0.01*i  \n",
        "\ty = np.sin(2*np.pi*x) * np.exp(-x/10.) \n",
        "\t\n",
        "\t# appending new points to x, y axes points list \n",
        "\txdata.append(x) \n",
        "\tydata.append(y) \n",
        "\tline.set_data(xdata, ydata) \n",
        "\treturn line, \n",
        "\t\n",
        "# setting a title for the plot \n",
        "plt.title('Damped sine wave') \n",
        "\n",
        "# call the animator\t \n",
        "anim = animation.FuncAnimation(fig, animate, init_func=init, frames=500, interval=20, blit=True) \n",
        "\n",
        "# save the animation as mp4 video file \n",
        "anim.save('damped_sine.gif',writer='pillow') \n",
        "#plt.show()"
      ],
      "execution_count": 0,
      "outputs": []
    },
    {
      "cell_type": "markdown",
      "metadata": {
        "id": "FIfqg5Vskx6n",
        "colab_type": "text"
      },
      "source": [
        "#### Detailed descriptions for the animated plot code\n",
        "\n",
        "Let's step through this and see what's going on. After importing required pieces of numpy and matplotlib, The script sets up the plot:"
      ]
    },
    {
      "cell_type": "code",
      "metadata": {
        "id": "t5fgz-43lt0p",
        "colab_type": "code",
        "colab": {}
      },
      "source": [
        "fig = plt.figure()  \n",
        "ax = plt.axes(xlim=(0, 10), ylim=(-1.2, 1.2)) \n",
        "line, = ax.plot([], [], lw=2) "
      ],
      "execution_count": 0,
      "outputs": []
    },
    {
      "cell_type": "markdown",
      "metadata": {
        "id": "_BOKneiYlu92",
        "colab_type": "text"
      },
      "source": [
        "Here we create a figure window, create a single axis in the figure, and then create our line object which will be modified in the animation. Note that here we simply plot an empty line: we'll add data to the line later.\n",
        "\n",
        "Next we'll create the functions which make the animation happen. `init()`` is the function which will be called to create the base frame upon which the animation takes place. Here we use just a simple function which sets the line data to nothing. It is important that this function return the line object, because this tells the animator which objects on the plot to update after each frame:"
      ]
    },
    {
      "cell_type": "code",
      "metadata": {
        "id": "M7if28m9nnZh",
        "colab_type": "code",
        "colab": {}
      },
      "source": [
        "def init(): \n",
        "\t# creating an empty plot/frame \n",
        "\tline.set_data([], []) \n",
        "\treturn line, "
      ],
      "execution_count": 0,
      "outputs": []
    },
    {
      "cell_type": "markdown",
      "metadata": {
        "id": "riQYlQ4HnuZw",
        "colab_type": "text"
      },
      "source": [
        "The next piece is the animation function. It takes a single parameter, the frame number i, and draws a damped sine wave:"
      ]
    },
    {
      "cell_type": "code",
      "metadata": {
        "id": "7PnMhCbpn8xv",
        "colab_type": "code",
        "colab": {}
      },
      "source": [
        "# animation function \n",
        "def animate(i): \n",
        "\t# x, y values to be plotted \n",
        "\tx = 0.1*i  \n",
        "\ty = np.sin(2*np.pi*x) * np.exp(-x/10.) \n",
        "\t\n",
        "\t# appending new points to x, y axes points list \n",
        "\txdata.append(x) \n",
        "\tydata.append(y) \n",
        "\tline.set_data(xdata, ydata) \n",
        "\treturn line, "
      ],
      "execution_count": 0,
      "outputs": []
    },
    {
      "cell_type": "markdown",
      "metadata": {
        "id": "Gx_40R9Kn93P",
        "colab_type": "text"
      },
      "source": [
        "Note that again here we return a tuple of the plot objects which have been modified. This tells the animation framework what parts of the plot should be animated.\n",
        "\n",
        "Finally, we create the animation object:"
      ]
    },
    {
      "cell_type": "code",
      "metadata": {
        "id": "oxF4cgTKoFla",
        "colab_type": "code",
        "colab": {}
      },
      "source": [
        "# call the animator\t \n",
        "anim = animation.FuncAnimation(fig, animate, init_func=init, frames=100, interval=20, blit=True) \n"
      ],
      "execution_count": 0,
      "outputs": []
    },
    {
      "cell_type": "markdown",
      "metadata": {
        "id": "ldL8EDUNoPew",
        "colab_type": "text"
      },
      "source": [
        "This object needs to persist, so it must be assigned to a variable. We've chosen a 100 frame animation with a 20ms delay between frames. The `blit` keyword is an important one: this tells the animation to only re-draw the pieces of the plot which have changed. The time saved with `blit=True` means that the animations display much more quickly. \n",
        "\n",
        "More examples for animated plots can be found [in this page](http://jakevdp.github.io/blog/2012/08/18/matplotlib-animation-tutorial/).\n"
      ]
    },
    {
      "cell_type": "markdown",
      "metadata": {
        "id": "U2HUwpBOMwKz",
        "colab_type": "text"
      },
      "source": [
        "**Good to know:**\n",
        "\n",
        "In recent years the interface and style of Matplotlib have begun to show their age.\n",
        "Newer tools like ggplot and ggvis in the R language, along with web visualization toolkits based on D3js and HTML5 canvas, often make Matplotlib feel clunky and old-fashioned.\n",
        "Still, we cannot ignore Matplotlib's strength as a well-tested, cross-platform graphics engine.\n",
        "Recent Matplotlib versions make it relatively easy to set new global plotting styles (see [Customizing Matplotlib: Configurations and Style Sheets](04.11-Settings-and-Stylesheets.ipynb)), and people have been developing new packages that build on its powerful internals to drive Matplotlib via cleaner, more modern APIs—for example, Seaborn (discussed in [Visualization With Seaborn](04.14-Visualization-With-Seaborn.ipynb)), [ggpy](http://yhat.github.io/ggpy/), [HoloViews](http://holoviews.org/), [Altair](http://altair-viz.github.io/), and even Pandas itself can be used as wrappers around Matplotlib's API.\n",
        "Even with wrappers like these, it is still often useful to dive into Matplotlib's syntax to adjust the final plot output."
      ]
    },
    {
      "cell_type": "markdown",
      "metadata": {
        "id": "y6IvXkKUvLf3",
        "colab_type": "text"
      },
      "source": [
        "##References\n",
        "Parts of this tutorial are based on the available google colab. python tutorials available here:\n",
        "\n",
        "https://colab.research.google.com/github/jakevdp/PythonDataScienceHandbook/blob/master/notebooks/Index.ipynb"
      ]
    }
  ]
}