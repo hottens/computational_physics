{
  "nbformat": 4,
  "nbformat_minor": 0,
  "metadata": {
    "colab": {
      "name": "Tutorial 9 student version.ipynb",
      "provenance": [],
      "collapsed_sections": []
    },
    "kernelspec": {
      "display_name": "Python 3",
      "language": "python",
      "name": "python3"
    },
    "language_info": {
      "codemirror_mode": {
        "name": "ipython",
        "version": 3
      },
      "file_extension": ".py",
      "mimetype": "text/x-python",
      "name": "python",
      "nbconvert_exporter": "python",
      "pygments_lexer": "ipython3",
      "version": "3.7.3"
    }
  },
  "cells": [
    {
      "cell_type": "markdown",
      "metadata": {
        "colab_type": "text",
        "id": "c83YE1w1g5Ss"
      },
      "source": [
        "# Tutorial 9: Heat flow via time stepping\n",
        "\n",
        "In this tutorial, you will solve the heat equation for various systems using the leapfrog algorithm. Preliminary reading and assignments are given for each exercise separately (see below).\n",
        "\n"
      ]
    },
    {
      "cell_type": "markdown",
      "metadata": {
        "colab_type": "text",
        "id": "2DjHTp6lnHQN"
      },
      "source": [
        "### Preliminaries\n",
        "* Read paragraphs 20.1 and 20.2, and try to understand how the heat equation is discretized and solved in time using the leapfrog algorithm before starting this exercise. Answer the following questions for yourself:\n",
        "   - Which steps are necessary to arrive at the discretized form of the heat equation (see eq. 1)? \n",
        "   - How does the derivation of the discretized heat equation differ from the one used in the previous tutorials?\n",
        "   - What is the role of the factor $\\eta$ in the discretized equation (eq. 1)? \n",
        "* Run the code cell at the end of this note book to load the function `create_plots` that you can use to plot your results."
      ]
    },
    {
      "cell_type": "markdown",
      "metadata": {
        "colab_type": "text",
        "id": "0pUz12oOg5Sv"
      },
      "source": [
        "### Introduction\n",
        "Consider an aluminum rod of length $L$, that is aligned with the $x$-axis(Figure 1). The bar is insulated along its length, but is in contact with ice water (kept at 0 degrees Celsius) at its edges. In this problem, you will explore how the temperature will vary inside the bar, when it initially has a uniformly distributed temperature of 100 degrees Celsius.\n",
        "\n",
        "<figure>\n",
        "<center>\n",
        "<img src=\"https://lh3.googleusercontent.com/aMsQ1NXcze0JBoDeOMBdSajzU_nRptcVBmjmaZN9P-8PvUaehe-kGX00nykCoGbiVtnqL-DtjWD9dr9HZvZS42ptHcxoYpNGNhSfxE3LamCQvCzChbUarcuq2LZ_E-Zl9XZJYMH4taAVG7FWCxCkondYnTK8GdbY4UN4_GCEWaFMhe9eGVeZLCLgxo-EuBGzlpjWvM5tB1vXYCA4U1BAtNH3eGfhU_gUOF9cNhWDzLzK8oIo3pDJVLHFYNPWNAtzWZFSr_7YKOX5BS9YyyBFv08bc852oYROR2URXdw0Mas77opR3gC33sHEnpka-fPkEVZCVUQwCbuv6QCHxSMvpiK_E2HaZA6Z6BsE3rgaiSk9dEvA14klYEZW0Qv6UqISYDJRvOA3h9q0DX7EcOH839fhASRUitSCakKeq7Kaayr3apypvnK_izOQEqS-jcagQrwkPf9d_rfT6hK-CfOta-QmJmKd01pK2lvZNx1WhhUmWF5F8dyuQYSJoV8iqQgl-OvZEjiAVLf_Juv82ylIph_pFeraPW4CEtAWFskFO3KhwciN37DjwfM1fMwgyTbjjaJtmMkruj9S-bei0MQzs703k9a63Co0chcMk5UcgY96tZYrKHlnY8v9JMDEeGxSEI-t65TwPB6SX9pbu1xQh7q9SM3hWoeiyOasGn45TX7YEP0PYsmvjbRsI2Li7TqnPwsBYUJcaaDzw4wq3_F6iLmzz0bDIJY4e-I2v3S-ZMZ8Cw=w480-h163-no\" width=\"480px\" title=\"The heated rod\" alt=\"Figure 1\">\n",
        "<figcaption>\n",
        "<b>Figure 1.</b>\n",
        "<i>A metallic bar insulated along its length with its ends in contact with ice. </i></figcaption>\n",
        "</center>\n",
        "</figure>\n",
        "\n",
        "### The heat equation\n",
        "The idea is to solve the heat equation in the direction alongside the axis of the bar. This means that we can write the heat equation in the following form:\n",
        "$$\\frac{\\partial{T}(x,t)}{\\partial{t}}=\\frac{K}{C\\rho}\\frac{\\partial^2T(x,t)}{\\partial{x}^2}\\,,$$\n",
        "where $T$ is the temperature, $K$, $\\rho$ and $C$ are the thermal conductivity, density and specific heat of the material, respectively.\n",
        "Your aim is to evaluate the solution of the heat equation for the aluminum bar system under the initial and boundary conditions $$T(x,t=0)=373.15, \\qquad T(x=0,t)=T(x=L,t)=273.15$$\n",
        "\n",
        "To do so, you will use a converted form of the heat equation (i.e. a finite-difference version), where we step forward in time one row at a time. (Make sure to read paragraph 20.2 on how to solve the heat equation for two variables at the same time).\n",
        "\n",
        "The solution $T$ can be stepped forward in time as:\n",
        "$$T_{i,j+1} = T_{i,j}+\\eta\\left(T_{i+1,j}+T_{i-1,j}-2T_{i,j}\\right), \\qquad \\eta=\\frac{K\\Delta{t}}{C\\rho\\Delta{x}^2} \\qquad\\qquad (1) $$ where $x=i\\Delta{x}$ and $t=j\\Delta{t}$.\n",
        "\n",
        "In Figure 2, we indicate how the solution in time of the temperature at a point $(i,j+1)$ is determined by the values at point $i$ and its direct neighbors at the previous timestep. Try to make sure that you understand how this diagram is different from the one in the standard FD tutorial of last week.\n",
        "\n",
        "\n",
        "<figure>\n",
        "<center>\n",
        "<img src=\"https://lh3.googleusercontent.com/7w3NrxTua4mLtvoldCMrf9z1-yVPdHyCN6S8nEL1NF7nZzHPflCM7K86AxarSEaC8UlUKuIGt9wNJeZ19Le6eeKRBvhNFP-cINMRNMaM8xqnWq2Ygj26Ngl3hhILKwa8l63LYIhUUYTvJkYLItrT3Elq_hlgInDQ5O2-2hRmahnFA6-h7B7dm27ouLUCXNL2R1Fdhnn7ge-MERC1IajltWJTLg_QxVoLohy8oNDBPxjmZ5N2121lTaav7blLE_W983bPavfwFVx9RBO0gFd8aYpaHM5zuFaNtrUOSTW1T759CPowtx2qm9T2Je753M1aZ3w18VIUp72sZfU8qlMTNw9BcIocci5cMIQtS72OyP1LauvCXTYdMwNalK4hpsJfLlC0Xu3JSS2V7ZQY74zrFU7tpFI22iDMrTVrOFj5e0hgXo_ldO7L7ibyUfBiybu8qx3RVKpDjNh4DgK-frhWpxWm2_M91r8JP3UPlBSaHim85hBUPFMpjRC394MLh49dVoMa42Sgk-Cw6hio1j6TZn3zN-_dS5O7ge2xtblofNqkZi4GN0j95SKbZgYE1D4RFbrHStTmQT4y9EzAgg4t5iwkoCFNHBMUC6UW5SLzkzoFMp6Pie-q-D4sJmfEkhsrZRTGUuN8JvkZkN8Gkvc5bqi_jc4TUiZn8gu-TKPf33sQWZLQ1o4CLvYFPJHDDxiigTTgHjA55Qr0IrBGDMd0i2WrXS6w6mNZdnsZYN0IT-y4Vw=w597-h471-no\" width=\"480px\" title=\"The heated rod\" alt=\"Figure 2\">\n",
        "<figcaption>\n",
        "<b>Figure 2.</b>\n",
        "<i>The time stepping alogithm, where the new value at each spatial node depends on three points of the previous time step.</i></figcaption>\n",
        "</center>\n",
        "</figure>\n"
      ]
    },
    {
      "cell_type": "markdown",
      "metadata": {
        "colab_type": "text",
        "id": "0Fd-Rp_q0JDA"
      },
      "source": [
        "## Exercises\n",
        "### Part 1: Setting the stage\n",
        "* Initialize variables for all problem constants and discretization parameters in the code cell below, or set them as default inputs in a function later on. Use physical properties of Aluminium, which are $$K=237\\,\\text{W/(m K)},\\qquad C=900\\,\\text{J/(kg K)},\\qquad\\rho = 2700\\,\\text{kg/m}^3.$$\n",
        "* Think carefully about the discretization steps $\\Delta x$ and $\\Delta t$ that you choose. You can calculate $\\Delta{x}$ from the length of the rod $L$ and the amount of points $N=101$."
      ]
    },
    {
      "cell_type": "code",
      "metadata": {
        "colab_type": "code",
        "id": "_gMN8lqM06Do",
        "colab": {}
      },
      "source": [
        "import numpy as np\n",
        "import matplotlib.pyplot as plt\n",
        "from mpl_toolkits.mplot3d import Axes3D \n",
        "\n"
      ],
      "execution_count": 0,
      "outputs": []
    },
    {
      "cell_type": "markdown",
      "metadata": {
        "colab_type": "text",
        "id": "jFbSDPiP1Om0"
      },
      "source": [
        "* Finish the function `update` below, such that it uses (1) to return an updated array `Tnew` based on the old array `T` and the constant `eta` that are provided as input. **Think carefully about how to implement your boundary conditions efficiently!**"
      ]
    },
    {
      "cell_type": "code",
      "metadata": {
        "colab_type": "code",
        "id": "xfhA312SrEmQ",
        "colab": {}
      },
      "source": [
        "def update(T, eta):\n",
        "    # Create an array copy (and NOT a pointer copy, else this won't work!\n",
        "\n",
        "    return Tnew"
      ],
      "execution_count": 0,
      "outputs": []
    },
    {
      "cell_type": "markdown",
      "metadata": {
        "colab_type": "text",
        "id": "i05YATud1ddk"
      },
      "source": [
        "### Part 2: Applying the time stepping algorithm\n",
        "* Initialize an array `T` that contains the initial values of the temperature in the rod.\n",
        "* Create an array `Tarray` in which you will store the temperature at various times. This should be a matrix (2d-array) where each column corresponds to a time step. \n",
        ">*Note:* Because we may need many steps in order to make our solution converge, it would be quite 'expensive' to store all intermediate temperatures, so try to store the values only every `outputFreq` time steps. You can pre-allocate `Tarray` while taking this into account.\n",
        "* Calculate $\\eta$ from the given definition. \n",
        "* Create a`for`-loop in which you update the temperature array repeatedly using the `update` function. Store the result once for every `outputFreq` frames in `Tarray`.\n",
        "* Run the code cell to load the function  `create_plots` into your work space and plot the results using this function. Your call should be of the form `create_plots(times, X, Tarray)` where you have to define `time` and `X` yourself -- they should be the total time and $x$-location, respectively, and you can define them using the appropriate `np.arange` commands (the dimensions would need to fit to `Tarray`).\n",
        "* Since the ends of the rod are in contact with an ice bath, what temperature do you expect the bar to converge to? Make sure that your calculation is long enough for a steady-state temperature to be obtained. If not, increase the number of time steps until you observe convergence.\n",
        "* Observe what happens if the von Neumann condition for stability is not fulfilled by modifying the $\\Delta t$ and/or $\\Delta x$."
      ]
    },
    {
      "cell_type": "code",
      "metadata": {
        "colab_type": "code",
        "id": "Qo6KgG_jsHRe",
        "colab": {}
      },
      "source": [
        "\n",
        "def calculate_bar_bath():\n",
        "\n",
        "\n",
        "    # Plotting part of the function\n",
        "    X = np.arange(0, L + Dx, Dx)\n",
        "    times = np.arange(0, Nt*Dt + Dt, outputFreq*Dt)\n",
        "\n",
        "    create_plots(times, X, Tarray)\n",
        "    plt.show()\n",
        "    \n",
        "\n",
        "\n",
        "\n",
        "\n"
      ],
      "execution_count": 0,
      "outputs": []
    },
    {
      "cell_type": "markdown",
      "metadata": {
        "colab_type": "text",
        "id": "-TyyvHhz2d2Z"
      },
      "source": [
        "### Part 3: Some variations of the initial/boundary conditions\n",
        "* Change the initial condition such that it follows $T(x,t=0)=\\sin{(\\pi{x}/L)}$, where the temperature at the edges is 0 degrees Celsius, and the temperature at the center is 100 degrees Celsius.\n",
        "* Try to place two identical bars (with lengths of $0.5~L$) in contact along their ends, where the furthest endpoints are kept at 0 degrees Celcius. Give one bar an initial temperature of 50 degrees, and the other an initial temperature of 100 degrees.\n",
        "* Consider an alumimium bar in contact with an iron bar. This makes the $\\eta$ value no longer constant. For iron, you can use the values\n",
        "$$K=94\\,\\text{W/(m K)},\\qquad C=450\\,\\text{J/(kg K)},\\qquad\\rho = 7874\\,\\text{kg/m}^3.$$\n",
        "You might have to change the `update` function in order to use a position-dependent $\\eta$ (use a 1 by $N$ array, for example).\n",
        "* **BONUS** \n",
        " A radiating bar (i.e. a bar that is not insulated along its length) loses temperature via the contact with its environment. Try to implement radiative cooling by solving the following differential equation:\n",
        "$$\\frac{\\partial{T}(x,t)}{\\partial{t}}=\\frac{K}{C\\rho}\\frac{\\partial^2T(x,t)}{\\partial{x}^2} - hT(x,t)\\,$$. \n"
      ]
    },
    {
      "cell_type": "code",
      "metadata": {
        "colab_type": "code",
        "id": "DtRbI50R83u3",
        "colab": {}
      },
      "source": [
        "# Sinus initial condition\n"
      ],
      "execution_count": 0,
      "outputs": []
    },
    {
      "cell_type": "code",
      "metadata": {
        "colab_type": "code",
        "id": "E3G1WfdS93Xj",
        "colab": {}
      },
      "source": [
        "#bar in contact: 50 and 100 degrees\n",
        "\n",
        "def calculate_bar_bath():\n",
        "\n"
      ],
      "execution_count": 0,
      "outputs": []
    },
    {
      "cell_type": "code",
      "metadata": {
        "colab_type": "code",
        "id": "GmDohNMr_CoV",
        "colab": {}
      },
      "source": [
        "#position-dependent eta\n",
        "def calculate_bar_bath():\n"
      ],
      "execution_count": 0,
      "outputs": []
    },
    {
      "cell_type": "markdown",
      "metadata": {
        "colab_type": "text",
        "id": "926N2q1W0jeI"
      },
      "source": [
        "### Plotting function\n",
        "We again provide you with the `create_plots` function that you can use to create some contour plots and 3D wireframe plots. Just run this code cell once to be able to use the function in other code cells!"
      ]
    },
    {
      "cell_type": "code",
      "metadata": {
        "colab_type": "code",
        "id": "pYf3sk8nwQnL",
        "colab": {}
      },
      "source": [
        "# Plotting (same as tutorial 7)\n",
        "def create_plots(X, Y, Z, colorrange=(0, 373), cm='viridis'):\n",
        "    '''\n",
        "    This function is given in order to help you visualize your results more quickly\n",
        "    Plots Z(x,y). Colors are based on the range and colormap given as inputs\n",
        "    '''\n",
        "    fig = plt.figure(figsize=(12,6), dpi=150)\n",
        "\n",
        "    ax1 = fig.add_subplot(1,2,1)\n",
        "    #ax1.set_aspect('equal')\n",
        "    #ax1.xaxis.tick_top()\n",
        "    #ax1.xaxis.set_label_position('top') \n",
        "    #ax1.invert_yaxis()\n",
        "    levels = np.linspace(colorrange[0],colorrange[1],101)\n",
        "    ticks = np.linspace(colorrange[0],colorrange[1],11)\n",
        "    cntr = ax1.contourf(X, Y, Z, levels, cmap=cm)\n",
        "    ax1.set_xlabel('t')                                     \n",
        "    ax1.set_ylabel('x')\n",
        "    cbar = fig.colorbar(cntr)\n",
        "    cbar.set_ticks(ticks)\n",
        "    cbar.set_label('Temperature')\n",
        "                                  \n",
        "    ax2 = fig.add_subplot(1,2,2,projection='3d')  \n",
        "    X, Y = np.meshgrid(X, Y)                                \n",
        "    ax2.plot_wireframe(X, Y, Z, color = 'k')                \n",
        "    #ax2.xaxis.set_ticklabels([])\n",
        "    #ax2.yaxis.set_ticklabels([])\n",
        "    ax2.set_xlabel('t')                                     \n",
        "    ax2.set_ylabel('x')\n",
        "    ax2.set_zlabel('Temperature')\n",
        "\n",
        "    #Add some color to highlight the potential value. Note: 'viridis' is a great color-\n",
        "    #map to use, since it is colorblind-friendly and has a uniform spacing in color \n",
        "    #scale and intensity. \n",
        "    ax2.plot_surface(X, Y, Z, rstride=1, cstride=1,\n",
        "                    cmap=cm, edgecolor='none', alpha=0.9)\n",
        "\n",
        "    #rotate the plot\n",
        "    #ax2.view_init(25, 110)\n",
        "\n",
        "    return [ax1, ax2] "
      ],
      "execution_count": 0,
      "outputs": []
    }
  ]
}