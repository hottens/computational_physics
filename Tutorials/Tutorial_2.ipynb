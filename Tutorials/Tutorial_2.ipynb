{
 "cells": [
  {
   "cell_type": "markdown",
   "metadata": {
    "colab_type": "text",
    "id": "5WTiP18qMjum"
   },
   "source": [
    "# Tutorial 2: Random walk\n",
    "In today's tutorial you will program your own random walk codes. In preparation, please review sections 4.2 and 4.3 from the book. In the previous tutorial you have learned about random sequences. Here, we will use the random number generator from the `random` module (i.e., `random.random()`) to create random walks.\n",
    "\n",
    "\n",
    "\n",
    "#### Before starting this tutorial, run the code cell below to import the required packages for this tutorial.\n"
   ]
  },
  {
   "cell_type": "code",
   "execution_count": 1,
   "metadata": {
    "colab": {},
    "colab_type": "code",
    "id": "mcgLGjlrMhY1"
   },
   "outputs": [],
   "source": [
    "# Required modules\n",
    "import random\n",
    "import numpy as np\n",
    "import matplotlib.pyplot as plt\n",
    "from mpl_toolkits.mplot3d import Axes3D # for 3D plotting\n",
    "import math"
   ]
  },
  {
   "cell_type": "markdown",
   "metadata": {
    "colab_type": "text",
    "id": "a_Nqhm2cNDQE"
   },
   "source": [
    "## Defining the random walk function\n",
    "In a random walk, an artificial walker starts from the origin and takes a series of $N$ successive steps in random directions, where each step is independent of the previous. This is a very simple but effective way to model diffusion. \n",
    "\n",
    "**Exercises**\n",
    "1. Write out a pseudo-code for a two-dimensional random walk *function* in the code cell below. Take into account the following:\n",
    " - Use comments so that you can later easily add the actual code in-place. \n",
    " - Generate random values for each step component ($\\Delta x$ and $\\Delta y$) independently.\n",
    " - The values for $\\Delta x$ and $\\Delta y$ should lie between $-1$ and $1$ (including both end points). \n",
    " - Normalize the step size such that each step length is 1.\n",
    " - The walker starts at the origin.\n",
    " - The function should require an argument `N` for the number of steps plus an optional argument `seed` with which you can control the seed of the RNG. By default, the seed should be `None`.\n",
    "1. Based on your pseudo-code, write a function called `RandomWalk` that creates a two-dimensional random walk of length $N$ based on the *optional* argument `seed`.\n",
    "1. Test your function by using the same number of steps and seed value as your neighbour. The results should be the same.\n",
    "\n"
   ]
  },
  {
   "cell_type": "code",
   "execution_count": 8,
   "metadata": {
    "colab": {
     "base_uri": "https://localhost:8080/",
     "height": 431
    },
    "colab_type": "code",
    "id": "3Ij7CJgaM5zk",
    "outputId": "0585cf29-2c45-431f-f18a-e1b03aad2f17"
   },
   "outputs": [
    {
     "data": {
      "text/plain": [
       "(array([[-0.80083924, -0.59887938],\n",
       "        [ 0.7414157 , -0.67104602],\n",
       "        [-0.79589588, -0.60543353],\n",
       "        [-0.86248839,  0.50607684],\n",
       "        [ 0.12990746, -0.99152612],\n",
       "        [-0.37806033, -0.92578096],\n",
       "        [ 0.78580832,  0.61847012],\n",
       "        [ 0.66044418, -0.75087515],\n",
       "        [-0.1712039 ,  0.98523562],\n",
       "        [-0.88569806, -0.46426172]]), array([[ 0.        ,  0.        ],\n",
       "        [-0.80083924, -0.59887938],\n",
       "        [-0.05942354, -1.2699254 ],\n",
       "        [-0.85531941, -1.87535892],\n",
       "        [-1.71780781, -1.36928208],\n",
       "        [-1.58790034, -2.3608082 ],\n",
       "        [-1.96596067, -3.28658916],\n",
       "        [-1.18015235, -2.66811904],\n",
       "        [-0.51970817, -3.41899419],\n",
       "        [-0.69091208, -2.43375857],\n",
       "        [-1.57661014, -2.89802029]]))"
      ]
     },
     "execution_count": 8,
     "metadata": {},
     "output_type": "execute_result"
    }
   ],
   "source": [
    "def RandomWalk(N, seed = None):\n",
    "    random.seed(seed)\n",
    "    positions = [np.array([0,0])]\n",
    "    deltas = []\n",
    "    \n",
    "    for n in range(N):\n",
    "        dx = random.uniform(-1,1)\n",
    "        dy = random.uniform(-1,1)\n",
    "\n",
    "        l = np.sqrt(dx**2 + dy**2)\n",
    "        dx /= l\n",
    "        dy /= l\n",
    "        \n",
    "        positions.append(positions[-1]+np.array([dx,dy]))\n",
    "        deltas.append([dx,dy])\n",
    "    return np.asarray(deltas), np.asarray(positions)\n",
    "\n",
    "RandomWalk(10)"
   ]
  },
  {
   "cell_type": "markdown",
   "metadata": {
    "colab_type": "text",
    "id": "h9oFhoOoNGhr"
   },
   "source": [
    "## Average and root-mean-square displacements\n",
    "\n",
    "### The average vector displacement\n",
    "If each step is denoted by $(\\Delta x_i, \\Delta y_i)$, then the final position is found by summing the $x$ and $y$ components of all steps, i.e. $(\\sum_i\\Delta x_i, \\sum_i\\Delta y_i)$. The radial distance traveled by the walker is therefore given by \n",
    "$$\n",
    "R^2 = \\left(\\sum_{i=1}^{N} \\Delta x_i\\right)^2 + \\left(\\sum_{i=1}^{N} \\Delta y_i\\right)^2.\n",
    "$$\n",
    "\n",
    "**Exercises**\n",
    "1. Draw 10 independent random walks of 1000 steps in a single plot. \n",
    "1. Calculate the average vector displacement for walks of $N$ steps (averaging over $K$ random walks). Take for example $(N,K) = (1000, 100)$ or $(1000, 100)$. \n",
    "\n",
    " Based on the plot you just made, how closely does the result agree with what you expect? \n",
    "\n",
    "\n"
   ]
  },
  {
   "cell_type": "code",
   "execution_count": 42,
   "metadata": {
    "colab": {
     "base_uri": "https://localhost:8080/",
     "height": 298
    },
    "colab_type": "code",
    "id": "TZyEgWbAgBFS",
    "outputId": "60f078dd-5641-4175-fab6-ee495df4c1ef"
   },
   "outputs": [
    {
     "name": "stdout",
     "output_type": "stream",
     "text": [
      "[-0.05348284  1.84930623]\n",
      "827.9369306333292\n"
     ]
    },
    {
     "data": {
      "image/png": "[encoded data removed]",
      "text/plain": [
       "<Figure size 432x288 with 1 Axes>"
      ]
     },
     "metadata": {
      "needs_background": "light"
     },
     "output_type": "display_data"
    }
   ],
   "source": [
    "fig = plt.figure()\n",
    "\n",
    "\n",
    "def calc_average_vec_displacement(N, K):\n",
    "    end_pos = []\n",
    "    R2s = []\n",
    "    deltas = []\n",
    "    for i in range(K):\n",
    "        d, p = RandomWalk(N)\n",
    "        x = p[:,0]\n",
    "        y = p[:,1]\n",
    "        dx = d[:,0]\n",
    "        dy = d[:,1]\n",
    "\n",
    "        end_pos.append([x[-1],y[-1]])\n",
    "        deltas.append([dx,dy])\n",
    "        R2 = x[-1]**2 + y[-1]**2\n",
    "        R2s.append(R2)\n",
    "    return np.array(end_pos), R2s, np.array(deltas)\n",
    "\n",
    "\n",
    "p, r, d, = calc_average_vec_displacement(1000,100)\n",
    "\n",
    "plt.scatter(p[:,0],p[:,1])\n",
    "print(np.mean(np.array(p),axis=0))\n",
    "print(np.mean(r))"
   ]
  },
  {
   "cell_type": "markdown",
   "metadata": {
    "colab_type": "text",
    "id": "bTnduS5Wf9Eo"
   },
   "source": [
    "### Deriving a scaling law for RMS displacement\n",
    "Taking the average over a large number of random steps, it can be shown (in the exercise below) that the root-mean-square displacement $R_{\\text{rms}} := \\sqrt{\\langle R^2 \\rangle}$ scales with $\\sqrt{N}$:\n",
    "$$\\begin{aligned}\n",
    "R_{\\text{rms}}^{2} \n",
    "    &= \\left\\langle \\left(\\sum_{i=1}^{N} \\Delta x_i\\right)^2 + \\left(\\sum_{i=1}^{N} \\Delta y_i\\right)^2 \\right\\rangle, \\\\\n",
    "    &= \\left\\langle \\sum_{i=1}^{N} \\left(\\Delta x_i^2 + \\Delta y_i^2 \\right)+  2 \\sum_{i=1}^{N} \\sum_{j=i+1}^{N} \\left(\\Delta x_i \\Delta x_j + \\Delta y_i \\Delta y_j \\right) \\right\\rangle, \\\\\n",
    "    &\\approx  \\sum_{i=1}^{N} \\left\\langle\\Delta x_i^2 + \\Delta y_i^2 \\right\\rangle, \\\\\n",
    "    &= N.\n",
    "\\end{aligned}\n",
    "$$\n",
    "Here, the term with the cross-terms (containing both $i$ and $j$) is assumed to be approximately zero because we average over a large number of random directions. Furthermore, because of the normalization step, we have $\\Delta x_i^2 + \\Delta y_i^2 = 1$.\n",
    "\n",
    "\n",
    "**Exercises**\n",
    "\n",
    "1. Check the validity of the assumptions in the above derivation by checking how close the ignored term is to zero. That is, compute the summation involving $\\Delta x_i \\Delta x_j + \\Delta y_i \\Delta y_j$. *Hint:* you could write a function to do this.\n",
    "1. Compare the results for a single long walk with that of multiple shorter walks. (Keep the total number of steps equal.) Does the result get better when averaging over more walks?"
   ]
  },
  {
   "cell_type": "code",
   "execution_count": 65,
   "metadata": {
    "colab": {},
    "colab_type": "code",
    "id": "XsuxP_pZX1WA"
   },
   "outputs": [
    {
     "name": "stdout",
     "output_type": "stream",
     "text": [
      "0.018738356885510236\n",
      "s: 0.8321980443645988\n",
      "s: 0.9957929794158171\n",
      "s: 0.9832307695950939\n",
      "s: 0.37677912466942254\n",
      "s: -0.7370709429519401\n",
      "s: 0.8306766515507625\n",
      "s: 0.8793502740992769\n",
      "s: 0.5582619839695098\n",
      "s: -0.35250385033863124\n",
      "s: -0.9954156906356724\n",
      "0.33712993437382377\n"
     ]
    }
   ],
   "source": [
    "d[0,:,:]\n",
    "x = d[0,0,:]\n",
    "y = d[0,1,:]\n",
    "\n",
    "def calc_ignored_term(d):\n",
    "    x = d[0,:]\n",
    "    y = d[1,:]\n",
    "    s = x[:-2]*np.roll(x,-1)[:-2] + y[:-2]*np.roll(y,-1)[:-2]\n",
    "    return np.mean(s)"
   ]
  },
  {
   "cell_type": "code",
   "execution_count": 67,
   "metadata": {
    "colab": {
     "base_uri": "https://localhost:8080/",
     "height": 86
    },
    "colab_type": "code",
    "id": "uH0vtSnkM6bT",
    "outputId": "6b7fadf6-63f0-4b5a-b68b-663eb4963514"
   },
   "outputs": [
    {
     "name": "stdout",
     "output_type": "stream",
     "text": [
      "0.018738356885510236\n",
      "-0.11468738530240245\n"
     ]
    }
   ],
   "source": [
    "single_long_walk = d[0,:,:]\n",
    "print(calc_ignored_term(single_long_walk))\n",
    "\n",
    "_, _, multiple_shorter_walks = calc_average_vec_displacement(3,10)\n",
    "ss = []\n",
    "for w in multiple_shorter_walks:\n",
    "    s = calc_ignored_term(w)\n",
    "    ss.append(s)\n",
    "    #print(\"s: {}\".format(s))\n",
    "print(np.mean(ss))"
   ]
  },
  {
   "cell_type": "markdown",
   "metadata": {
    "colab_type": "text",
    "id": "GJ_Y-niENRBD"
   },
   "source": [
    "### Scaling of the root-mean-square displacement with the number of steps\n",
    "\n",
    "**Exercises**\n",
    "1. Verify your implementation of the random walk by calculating the root-mean-square distances $R_{\\text{rms}}=\\frac{1}{N}\\sum_{i=1}^{N}|\\vec{r}_{i}|^{2}$ for different $N$ and showing that it scales with $\\sqrt{N}$.\n",
    " - *Note 1:* Plot both $y=\\sqrt{N}$ and $R_{\\text{rms}}$ as a function of $\\sqrt{N}$ to visualize the scaling law more easily. \n",
    "\n",
    " - *Note 2:* For each $N$, you should use $K=\\sqrt{N}$ random walks (round to nearest integer) to calculate the averages.\n",
    "\n",
    " - *Note 3:* The computation may take a while. Therefore, do not make $N$ too large or consider too many values for $N$. Using the points `np.arange(0,100,10)**2` for `N` will take about a short minute."
   ]
  },
  {
   "cell_type": "code",
   "execution_count": 69,
   "metadata": {
    "colab": {
     "base_uri": "https://localhost:8080/",
     "height": 312
    },
    "colab_type": "code",
    "id": "qBn9nFk8NA-d",
    "outputId": "d3369e2c-9421-41f7-8987-0be58df44de6"
   },
   "outputs": [
    {
     "name": "stdout",
     "output_type": "stream",
     "text": [
      "10: 8.32842889165463\n",
      "100: 107.19875090713573\n",
      "1000: 914.4343424093399\n"
     ]
    }
   ],
   "source": [
    "Ns = [10, 100, 1000]\n",
    "\n",
    "for N in Ns:\n",
    "    p, r, d, = calc_average_vec_displacement(N,100)\n",
    "    print(\"{}: {}\".format(N, np.mean(r)))"
   ]
  },
  {
   "cell_type": "markdown",
   "metadata": {
    "colab_type": "text",
    "id": "Ytn1XiNhOc4i"
   },
   "source": [
    "## Extension to 3D random walks\n",
    "\n",
    "**Exercises**\n",
    "1. Create a three-dimensional version of the random walk function.\n",
    "1. Plot some random 3D trajectories."
   ]
  },
  {
   "cell_type": "code",
   "execution_count": 82,
   "metadata": {
    "colab": {},
    "colab_type": "code",
    "id": "wO05VaQuOrWO"
   },
   "outputs": [
    {
     "name": "stdout",
     "output_type": "stream",
     "text": [
      "[0. 0. 0.]\n"
     ]
    }
   ],
   "source": [
    "def RandomWalk3D(N, seed = None):\n",
    "    random.seed(seed)\n",
    "    positions = [np.array([0,0,0])]\n",
    "    deltas = []\n",
    "    \n",
    "    for n in range(N):\n",
    "        dx = random.uniform(-1,1)\n",
    "        dy = random.uniform(-1,1)\n",
    "        dz = random.uniform(-1,1)\n",
    "\n",
    "        l = np.sqrt(dx**2 + dy**2 + dz**2)\n",
    "        dx /= l\n",
    "        dy /= l\n",
    "        dz /= l\n",
    "        \n",
    "        positions.append(positions[-1]+np.array([dx,dy,dz]))\n",
    "        deltas.append([dx,dy,dz])\n",
    "    return np.asarray(deltas), np.asarray(positions)\n"
   ]
  },
  {
   "cell_type": "code",
   "execution_count": 86,
   "metadata": {
    "colab": {
     "base_uri": "https://localhost:8080/",
     "height": 266
    },
    "colab_type": "code",
    "id": "FtaOv60qO6ZU",
    "outputId": "d300f2cb-2715-447d-dfbb-8f379bd0e7a1"
   },
   "outputs": [
    {
     "data": {
      "image/png": "[encoded data removed]",
      "text/plain": [
       "<Figure size 432x288 with 1 Axes>"
      ]
     },
     "metadata": {
      "needs_background": "light"
     },
     "output_type": "display_data"
    }
   ],
   "source": [
    "fig = plt.figure()\n",
    "\n",
    "for i in range(6):\n",
    "    d, p = RandomWalk3D(100)\n",
    "    ax = fig.gca(projection='3d')\n",
    "    ax.plot(xs=p[:,0],ys=p[:,1],zs=p[:,2])\n",
    "plt.show()"
   ]
  },
  {
   "cell_type": "code",
   "execution_count": null,
   "metadata": {
    "colab": {
     "base_uri": "https://localhost:8080/",
     "height": 374
    },
    "colab_type": "code",
    "id": "dUMUvCwuasB7",
    "outputId": "05b88c06-aee4-4ea9-d51c-377f289d7a46"
   },
   "outputs": [],
   "source": []
  },
  {
   "cell_type": "code",
   "execution_count": null,
   "metadata": {},
   "outputs": [],
   "source": []
  }
 ],
 "metadata": {
  "colab": {
   "collapsed_sections": [],
   "name": "RandomWalk.ipynb",
   "provenance": [],
   "toc_visible": true,
   "version": "0.3.2"
  },
  "kernelspec": {
   "display_name": "Python 3",
   "language": "python",
   "name": "python3"
  },
  "language_info": {
   "codemirror_mode": {
    "name": "ipython",
    "version": 3
   },
   "file_extension": ".py",
   "mimetype": "text/x-python",
   "name": "python",
   "nbconvert_exporter": "python",
   "pygments_lexer": "ipython3",
   "version": "3.7.4"
  }
 },
 "nbformat": 4,
 "nbformat_minor": 1
}
