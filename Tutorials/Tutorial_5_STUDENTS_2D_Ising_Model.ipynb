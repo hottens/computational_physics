{
 "cells": [
  {
   "cell_type": "markdown",
   "metadata": {
    "colab_type": "text",
    "id": "Vwm5qmVK81W5"
   },
   "source": [
    "# Tutorial 5 - Metropolis-Monte Carlo simulation of 2D Ising lattice\n",
    "\n",
    "*In preparation, please review Chapter 17, up to and including section 17.4 of Landau.*\n",
    "\n",
    "In this tutorial, you will write a code to perform a Monte Carlo simulation on a\n",
    "2D Ising lattice. \n",
    "\n",
    "### 2D Ising model\n",
    "We consider a square lattice of $N\\times N$ with at each lattice point a spin $\\mathbf{s}_i = \\pm 1$. Following the book (Eq. 17.4), the energy for a spin configuration is\n",
    "$$\n",
    "E = - J \\sum_{i} \\sum_{j\\in\\text{nb}(i)} \\mathbf{s}_i \\cdot \\mathbf{s}_j - \\mu B \\sum_{k} \\mathbf{s}_k \\qquad (1)\n",
    "$$\n",
    "where $\\text{nb}(i)$ denotes the set of the (four: north, east, south, west) nearest neighbours of spin $i$, $J$ is the interaction strength, $\\mu$ is a product of the gyromagnetic ratio and the Bohr magneton and $B$ is the magnitude of the external magnetic field. The summations over $i$ and $k$ are taken over all spins in the system.\n",
    "\n",
    ">*In this exercise, we make the simplifications $k_B=1$, $\\mu=1$ and $J=1$.*\n",
    "\n",
    "### Metropolis Monte Carlo algoritmhm\n",
    "See also Landau 17.4. The algorithm is\n",
    "1. Initialize the spin configuration\n",
    "1. Pick a random spin an calculate the energy change $\\Delta E$ by flipping it\n",
    "1. If the energy is lowered, accept the flip\n",
    "1. If the energy is higher, accept the flip with probability $\\exp(-\\Delta E/k_BT)$, i.e. :\n",
    "  1. Draw a random number $0\\leq r \\leq 1$from a uniform distribution\n",
    "  1. Accept if $r \\leq \\exp(-\\Delta E/k_BT)$, reject otherwise.\n",
    "1. Repeat steps 2-4 for desired number of moves.\n",
    "\n",
    ">*About the energy change:*\n",
    ">\n",
    "> Computational efficiency is a very important aspect in order to keep simulation times low. On that note, it is better to directly calculate the energy change $dE$ after flipping spin $i$ as $$ \\Delta E = E(\\text{spin $i$ flipped}) - E(\\text{spin $i$ not flipped}) = 2 J \\sum_{j\\in\\text{nb}(i)} \\mathbf{s}_i \\cdot \\mathbf{s}_j + 2 \\mu B \\mathbf{s}_i \\qquad (2)$$ instead of first calculating the energies using (1) for both configurations and then taking their difference. Note that here, $\\mathbf{s}_i$ is the spin value before flipping."
   ]
  },
  {
   "cell_type": "markdown",
   "metadata": {
    "colab_type": "text",
    "id": "1w9i40xZD7-D"
   },
   "source": [
    "### Preparation\n",
    "- The function `generate_spin_configuration`, which creates an $N\\times N$ grid containing the spins, has already been written for you. Execute the code cells below to load it into your workspace."
   ]
  },
  {
   "cell_type": "code",
   "execution_count": 1,
   "metadata": {
    "colab": {},
    "colab_type": "code",
    "id": "X4LpbZOgByQE"
   },
   "outputs": [],
   "source": [
    "# Load these modules for this tutorial!\n",
    "import matplotlib.pyplot as plt\n",
    "import numpy as np\n",
    "from numpy import random as rd"
   ]
  },
  {
   "cell_type": "code",
   "execution_count": 3,
   "metadata": {
    "colab": {},
    "colab_type": "code",
    "id": "WKIgXtblA2T_"
   },
   "outputs": [
    {
     "name": "stdout",
     "output_type": "stream",
     "text": [
      "[[0 1 2]\n",
      " [3 4 5]\n",
      " [6 7 8]]\n"
     ]
    },
    {
     "data": {
      "text/plain": [
       "array([[2, 0, 1],\n",
       "       [5, 3, 4],\n",
       "       [8, 6, 7]])"
      ]
     },
     "execution_count": 3,
     "metadata": {},
     "output_type": "execute_result"
    }
   ],
   "source": [
    "def generate_spin_configuration(N, start='hot'):\n",
    "    '''\n",
    "    | initialize_spins(N, start='hot')\n",
    "    |\n",
    "    | Generates a random spin configuration for a hot start in the Ising model\n",
    "    | start='cold' provides a configuration with all spins +1\n",
    "    '''\n",
    "    if (start=='cold'):\n",
    "        return np.ones((N, N), dtype=int)\n",
    "    elif (start=='hot'):\n",
    "        return rd.choice([-1, 1], size=(N, N))"
   ]
  },
  {
   "cell_type": "markdown",
   "metadata": {
    "colab_type": "text",
    "id": "Y6u0sG6WBFZr"
   },
   "source": [
    "### Implementing the Metropolis Monte Carlo algorithm \n",
    "- Complete the function `MonteCarlo` in the code cell below. It should execute a single MonteCarlo step, where you select a random spin to flip and use the Metropolis criterion to determine whether the flip will be accepted or not. Some comments are provided to help you structure the function.\n",
    "\n",
    "- Complete the function `calculate_properties` such that it returns the internal energy $$U = \\sum_{i} \\sum_{j\\in\\text{nb}(i)} \\mathbf{s}_i \\cdot \\mathbf{s}_j$$ and magnetization $$M= \\left|\\sum_{k} \\mathbf{s}_k\\right|.$$"
   ]
  },
  {
   "cell_type": "code",
   "execution_count": 89,
   "metadata": {
    "colab": {},
    "colab_type": "code",
    "id": "RHz04rfEMKAi"
   },
   "outputs": [],
   "source": [
    "def MonteCarlo(s, T=1., B=0):\n",
    "    '''\n",
    "    | MonteCarlo(s, T=1., B=0)\n",
    "    |\n",
    "    | Performs a monte carlo step on a spin system s at specified temperature T \n",
    "    | and magnetic field B. Flips a single spin based on the Metropolis criterion\n",
    "    '''\n",
    "    mu = 1\n",
    "    J = 1\n",
    "    \n",
    "    # Extract the grid size from the lattice s \n",
    "    N = s.shape[0]\n",
    "    \n",
    "    # Pick an arbitary spin to try and flip\n",
    "    x_max, y_max = s.shape\n",
    "    x = rd.randint(x_max)\n",
    "    y = rd.randint(y_max)\n",
    "\n",
    "    # Calculate the energy change\n",
    "    delta_E = 2*J*(s[x-1][y]+s[x][y-1]+s[(x+1)%x_max][y]+s[x][(y+1)%y_max])*(s[x][y]+2*mu*B*s[x][y])\n",
    "\n",
    "    # Accept the flip or not?\n",
    "    if delta_E < 0 or rd.random() <= np.exp(-(abs(delta_E)/T)):\n",
    "        s[x][y] *= -1    \n",
    "    \n",
    "    return s\n",
    "    \n",
    "    \n",
    "def calculate_properties(s):\n",
    "    '''\n",
    "    | calculate_properties(s)\n",
    "    |\n",
    "    | returns the internal energy and the magnetization of spin system s\n",
    "    '''\n",
    "    # Calculate the internal energy U\n",
    "    u = np.roll(s.copy(), 1, axis=0)\n",
    "    d = np.roll(s.copy(), -1, axis=0)\n",
    "    l = np.roll(s.copy(), 1, axis=1)\n",
    "    r = np.roll(s.copy(), -1, axis=1)\n",
    "    \n",
    "    U = np.sum(s*(u+d+l+r))\n",
    "    \n",
    "    # Calculate the magnetization M\n",
    "    M = abs(np.sum(s))\n",
    "    \n",
    "    return U, M \n"
   ]
  },
  {
   "cell_type": "markdown",
   "metadata": {
    "colab_type": "text",
    "id": "bHXm0xafBot4"
   },
   "source": [
    "### Transient behaviour\n",
    "Time to do some simulations! \n",
    "  - In the following, use $N=50$*, $B=0$ and $T=1$.\n",
    "  \n",
    "  - Starting from a random spin configuration (a 'hot' start), carry out $100N^2$ MC steps. \n",
    "  - Every 100 steps, store the internal energy and magnetization. \n",
    "  - Create plots of $U/N^2$ and $M/N^2$ versus the number of MC moves. You should see some form of convergence in the energy. Can you explain what happens with the magnetization?\n",
    "\n",
    "*If the simulations take very long, try to lower $N$ or to optimize your code! It should take at most a few tens of seconds!\n"
   ]
  },
  {
   "cell_type": "code",
   "execution_count": 90,
   "metadata": {
    "colab": {},
    "colab_type": "code",
    "id": "LvWRphFJE13j"
   },
   "outputs": [
    {
     "data": {
      "image/png": "[encoded data removed]",
      "text/plain": [
       "<Figure size 648x432 with 6 Axes>"
      ]
     },
     "metadata": {
      "needs_background": "light"
     },
     "output_type": "display_data"
    },
    {
     "data": {
      "image/png": "[encoded data removed]",
      "text/plain": [
       "<Figure size 432x288 with 1 Axes>"
      ]
     },
     "metadata": {
      "needs_background": "light"
     },
     "output_type": "display_data"
    },
    {
     "data": {
      "image/png": "[encoded data removed]",
      "text/plain": [
       "<Figure size 432x288 with 1 Axes>"
      ]
     },
     "metadata": {
      "needs_background": "light"
     },
     "output_type": "display_data"
    }
   ],
   "source": [
    "N = 50\n",
    "B = 0.\n",
    "T = 1.\n",
    "\n",
    "Us = []\n",
    "Ms = []\n",
    "\n",
    "# Change the number of moves!\n",
    "num_moves = 100*N**2\n",
    "\n",
    "# Seed the RNG\n",
    "rd.seed()\n",
    "  \n",
    "# Generate the N random spins\n",
    "s = generate_spin_configuration(N, start='hot')\n",
    "\n",
    "# Generate a figure that will show the configurations\n",
    "_, ax = plt.subplots(2, 3, figsize=(9,6))\n",
    "[axi.set_axis_off() for axi in ax.ravel()]\n",
    "  \n",
    "# Monte Carlo moves  \n",
    "for move in range(num_moves):\n",
    "    # Perform a Monte Carlo step\n",
    "    s = MonteCarlo(s, T, B)    \n",
    "    \n",
    "    # Store U and M every 100th step\n",
    "    if move%100==0:\n",
    "        U, M = calculate_properties(s)\n",
    "        Us.append(U)\n",
    "        Ms.append(M)\n",
    "        \n",
    "    #show = np.linspace(0, num_moves, 6)\n",
    "    show = np.logspace(3, np.log10(num_moves), 5, base=10)\n",
    "    # This will show the configurations after each number of moves\n",
    "    # You have to edit the 0 to whichever number you like\n",
    "    if move==0:              ax[0,0].imshow(s)\n",
    "    if move==int(show[0]):   ax[0,1].imshow(s)\n",
    "    if move==int(show[1]):   ax[0,2].imshow(s)\n",
    "    if move==int(show[2]):   ax[1,0].imshow(s)\n",
    "    if move==int(show[3]):   ax[1,1].imshow(s)\n",
    "    if move==int(show[4]):   ax[1,2].imshow(s)    \n",
    "      \n",
    "      \n",
    "# Plot the average energy and magnetizations\n",
    "fig1 = plt.figure()\n",
    "plt.plot(np.arange(0,len(Us)), np.array(Us)/N**2)\n",
    "plt.show()\n",
    "fig2 = plt.figure()\n",
    "plt.plot(np.arange(0,len(Ms)), np.array(Ms)/N**2)\n",
    "plt.show()"
   ]
  },
  {
   "cell_type": "markdown",
   "metadata": {
    "colab_type": "text",
    "id": "2VVUZPzYRztJ"
   },
   "source": [
    "### Thermodynamic properties\n",
    "This time, we are going to vary the temperature to study thermodynamic properties of the spin system. **Set $N=10$ in order to decrease simulation times.** Carry out the following\n",
    "- Place the code from the previous within a for loop that runs over temperature values `np.linspace(1., 4., 15)`.\n",
    "- For each temperature:\n",
    "  - equilibrate the system by performing $100N^2$ MC moves.\n",
    "  - perform another $100N^2$ steps and calculate the average internal energy $\\langle U \\rangle$, the average square energy $\\langle U^2 \\rangle$ and the magnetization $\\langle M \\rangle$ over these steps (keep summing during the loop and divide by the number of terms in your sum - i.e., $100N^2$ - afterwards to get the average).\n",
    "  - store the values of $\\langle U \\rangle$, $\\langle M \\rangle$ and the specific heat $C$, defined as $$C = \\frac{\\langle U^2 \\rangle - \\langle U \\rangle^2}{T^2}$$\n",
    "  for this temperature.\n",
    "- Create a plot of the $\\langle U \\rangle$, $\\langle M \\rangle$ and $C$ versus temperature. At which temperature you observe a phase transition? What happens physically?\n",
    "\n",
    "- Change the magnetic field and repeat the above (both transient behaviour and thermodynamic properties). Do the results change according to your expectation?\n",
    "  "
   ]
  },
  {
   "cell_type": "code",
   "execution_count": 93,
   "metadata": {
    "colab": {},
    "colab_type": "code",
    "id": "XGHmB-wqa2Bk"
   },
   "outputs": [
    {
     "data": {
      "image/png": "[encoded data removed]",
      "text/plain": [
       "<Figure size 432x288 with 1 Axes>"
      ]
     },
     "metadata": {
      "needs_background": "light"
     },
     "output_type": "display_data"
    },
    {
     "data": {
      "image/png": "[encoded data removed]",
      "text/plain": [
       "<Figure size 432x288 with 1 Axes>"
      ]
     },
     "metadata": {
      "needs_background": "light"
     },
     "output_type": "display_data"
    },
    {
     "data": {
      "image/png": "[encoded data removed]",
      "text/plain": [
       "<Figure size 432x288 with 1 Axes>"
      ]
     },
     "metadata": {
      "needs_background": "light"
     },
     "output_type": "display_data"
    },
    {
     "data": {
      "image/png": "[encoded data removed]",
      "text/plain": [
       "<Figure size 432x288 with 1 Axes>"
      ]
     },
     "metadata": {
      "needs_background": "light"
     },
     "output_type": "display_data"
    },
    {
     "data": {
      "image/png": "[encoded data removed]",
      "text/plain": [
       "<Figure size 432x288 with 1 Axes>"
      ]
     },
     "metadata": {
      "needs_background": "light"
     },
     "output_type": "display_data"
    }
   ],
   "source": [
    "# 2D Ising model\n",
    "N = 10\n",
    "B = 0.\n",
    "Tvals = np.linspace(1., 4., 15)\n",
    "\n",
    "num_moves = 100 * N**2\n",
    "\n",
    "U = []\n",
    "U2 = []\n",
    "M = []\n",
    "C = []\n",
    "\n",
    "s_start = None\n",
    "s_end = None\n",
    "\n",
    "#### Temperature loop\n",
    "for T in Tvals:\n",
    "     \n",
    "    # Generate the random spin configuration and variables for the summation\n",
    "    s = generate_spin_configuration(N)\n",
    "   \n",
    "    # Equilibration    \n",
    "    for move in range(num_moves):\n",
    "        # Do Monte Carlo steps for equilibration \n",
    "        s = MonteCarlo(s, T, B) \n",
    "    s_start = s.copy()\n",
    "    # Production MC\n",
    "    for move in range(num_moves):\n",
    "        # Monte Carlo and summing properties\n",
    "        s = MonteCarlo(s, T, B) \n",
    "    s_end = s.copy()\n",
    "    # Calculate thermodynamic properties for this temperature\n",
    "    u, m = calculate_properties(s)\n",
    "    U.append(u/N**2)\n",
    "    M.append(m/N**2)\n",
    "    U2.append(u**2/N**2)\n",
    "    C.append((U2[-1]-U[-1]**2)/T**2)\n",
    "    \n",
    "\n",
    "# Plot the results\n",
    "fig1 = plt.figure()\n",
    "plt.plot(Tvals, U)\n",
    "plt.show()\n",
    "\n",
    "fig2 = plt.figure()\n",
    "plt.plot(Tvals, M)\n",
    "plt.show()\n",
    "\n",
    "fig3 = plt.figure()\n",
    "plt.plot(Tvals, C)\n",
    "plt.show()\n",
    "\n",
    "fig4 = plt.figure()\n",
    "plt.imshow(s_start)\n",
    "plt.show()\n",
    "\n",
    "fig5 = plt.figure()\n",
    "plt.imshow(s_end)\n",
    "plt.show()"
   ]
  }
 ],
 "metadata": {
  "colab": {
   "collapsed_sections": [],
   "name": "Tutorial_5_STUDENTS_2D_Ising_Model.ipynb",
   "provenance": [],
   "toc_visible": true
  },
  "kernelspec": {
   "display_name": "Python 3",
   "language": "python",
   "name": "python3"
  },
  "language_info": {
   "codemirror_mode": {
    "name": "ipython",
    "version": 3
   },
   "file_extension": ".py",
   "mimetype": "text/x-python",
   "name": "python",
   "nbconvert_exporter": "python",
   "pygments_lexer": "ipython3",
   "version": "3.7.4"
  }
 },
 "nbformat": 4,
 "nbformat_minor": 1
}
