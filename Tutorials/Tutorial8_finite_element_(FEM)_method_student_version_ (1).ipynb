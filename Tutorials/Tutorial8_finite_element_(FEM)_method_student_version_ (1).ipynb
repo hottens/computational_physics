{
  "nbformat": 4,
  "nbformat_minor": 0,
  "metadata": {
    "colab": {
      "name": "Tutorial8 finite element (FEM) method student version .ipynb",
      "provenance": [],
      "collapsed_sections": []
    },
    "kernelspec": {
      "name": "python3",
      "display_name": "Python 3"
    }
  },
  "cells": [
    {
      "cell_type": "markdown",
      "metadata": {
        "id": "YW9cc7EYrhaw",
        "colab_type": "text"
      },
      "source": [
        "#Tutorial 8: 1D finite element method (FEM)\n",
        "\n",
        "In this tutorial you will solve a second-order partial differential equation to find the electrical potential between two parallel plates using FEM. FEM is a powerful technique in which a geometry for which you want to solve a differential equation is divided in small elements (hence the name). The differential equations that describe the physical process for the small elements are then assembled to a larger system of equations, which is then solved iteratively.\n",
        "\n",
        "Although finite-difference methods are simpler to implement than FEM, they are less robust mathematically and for big problems less efficient in terms of computer time. Finite element methods, in turn, are more complicated to implement, but more appropriate and precise for more complicated equations and geometries. In addition, the same basic finite-element techniques can be applied to many problems with only minor modifications, and yield solutions that may be evaluated throughout all space, not just on a grid. In fact, the FEM has very much become the standard for large-scale engineering applications.\n",
        "\n",
        "\n",
        "### Preliminaries\n",
        "* Read sections 23.1-23.3 to understand the physics of the problem. Obtain the analytical solution of the DE and explain why this problem can be considered as a 1D problem.\n",
        "* Read sections 23.4-23.5 of the book to understand the FEM formulation.\n",
        "* Read the following overview of FEM. This overview is quite useful since some parts of FEM have not been properly disscused in the book.\n",
        "\n",
        "\n",
        "\n",
        "\\\\\n",
        "\n",
        "**Important note:**\n",
        "*Be careful about some typos in equations 23.20 and 23.21 in the book.*\n",
        "\n",
        "\n",
        "##Second-order differential equation \n",
        "\n",
        "To demonstrate the basic principles of FEM let's use the following 1D, advection-diffusion equation:\n",
        "\n",
        "$$\n",
        "u\\frac{dT}{dx}-k\\frac{d^{2}T}{d x^{2}}=f \\;\\;\\;\\;\\;\\; \\rm{in} \\; \\Omega \\;\\;\\;\\;\\;(1)\n",
        "$$\n",
        "\n",
        "where $u$ and $k$ are the known constants, $f(x)$ is the known source function and $T(x)$ is the scalar unknown. $\\Omega$ is the problem domain. This equation has the general form of a linear second-order differential equation. Setting $u=0$, $k=1$, $f$ to charge density, and considering the scalar unknown to be electrical potential $U$, we get the electrical potential equation:\n",
        "\n",
        "$$\n",
        "-\\frac{d^{2}U}{d x^{2}}=4\\pi\\rho(x) \\;\\;\\;\\;\\;\\; (2)\n",
        "$$\n",
        "\n",
        "Here we develop the formulation of FEM for the general form of the second-order DE, equation (1), and then we apply the method to solve the electrical potential equation.\n",
        "\n",
        "This second-order PDE should be supported by two boundary conditions (BCs) provided at the two ends of the 1D domain. At a boundary either \n",
        "*  **the value of the unknown** (Dirichlet)\n",
        "*  or **the value of its first derivative** (Neumann)\n",
        "*  or **an equation involving both the unknown and the first derivative** (Robin)\n",
        "\n",
        "is specified.\n",
        "\n"
      ]
    },
    {
      "cell_type": "markdown",
      "metadata": {
        "id": "l4dyFkmyRoM5",
        "colab_type": "text"
      },
      "source": [
        "##Finite element approach\n",
        "\n",
        "The FEM formulation can be divided into following steps:\n",
        "\n",
        "* **Discretization**\n",
        "* **Obtaining the weak form of the equation**\n",
        "* **Boundary condition**\n",
        "* **Constructing an approximate solution using shape functions and applying boundary conditions**\n",
        "* **Solving global equation system**\n",
        "\n",
        "### Discretization\n",
        "\n",
        "In a FE solution we divide the problem domain into a finite number of elements and try to obtain polynomial-type approximate solutions over each element. \n",
        "\n",
        "* The simplest polynomial we can use to approximate the variation of the solution over an element is a linear polynomial, as shown in the figure below. The FE solution shown in this figure makes use of a mesh with $NE$ many **first order (2 node) elements**. The mesh also has $N=NE+1$ nodes. This approximate solution is said to be **$C^{0}$ continuous**, i.e. only the zeroth order derivative (the solution itself) is continuous across element interfaces, but not higher order derivatives.\n",
        "\n",
        "* In a FE solution the task is to find the linear approximate solutions,$T^{e}$’s over each element, which requires the calculation of unknown $T$ values at the nodes of the mesh, shown with red circles. In total we need to determine $N$ many $T$ values and for this we need to derive $N$ linear algebraic equations.\n",
        "\n",
        "\\\\\n",
        "\n"
      ]
    },
    {
      "cell_type": "markdown",
      "metadata": {
        "id": "Rxa_z6vYVraq",
        "colab_type": "text"
      },
      "source": [
        "<figure>\n",
        "<center>\n",
        "<img src=\"https://lh3.googleusercontent.com/txzO8arUfSC206iYjLtkeB1zcd6tEPafxEx6mGaRArSQBspYWkZnc_2d1gtspKO4PqzmYkqLTUfrBeS89SsCqvFjYS4Fjp_33Pgx3XVp_1LIH0ENhUcaz-r6KKl3NvMOMzkHopMj2zrp1YUr-ybtzh2da0Rf3oHdAX3t9nmbVw2xD9ZMP4pUz-fVD8yWaUrL_EXK0lPgKFJBP44j7cBxKFJ4znQMUzFSg-MHI5N3XOGrKk4kz-AAtcMC5JIkvnETahzaVB0cCKAiKvwdCP56Qz0UVnZCetV5AOBEHnwYwQ2HUME_dBdrx0weYcbXz2gvncjO7A41-0ae_CDD5WZHuWsHjcWGDRmlhCdfXsSeQgkUzJP0DliKMRwF1tat0oBPWxk8ReNH3Ulkvprm4MhKXpMWHt69DZEMeEgWvIsGB9_CU7WMzGQnw7FoHNJUFEt__uMYHkAH4ZqkMNRvsiFklvKw4Kz259g3G1tg8M1vCa6xt7hMyl3B_bBAlGk0VRwWe3io_HGKwe6EZWASXGTgmWJlTECQt3fS7mIw0oOONcOZSxvSg0DFd7sUEFD4rUp5idcQRgLpzJRvLTsmIjcSnosAw_AYGASagAvP8awvM-P50i5c0ai8EO0SbLnfib2n2HcvsSrPE4Peoow0s2XOEVvt9BynLGiddKr_macvQHp53iKJwxBB0Bw=w936-h445-no\" width=\"700px\" title=\"FEM approximation\" alt=\"Figure 1\">\n",
        "<figcaption>\n",
        "<b>Figure 1.</b>\n",
        "<i>Typical $C^{0}$ continuous approximate solution over a 1D domain with NE linear elements.</i></figcaption>\n",
        "</center>\n",
        "</figure>\n",
        "\n",
        "\n",
        "\n",
        "\n"
      ]
    },
    {
      "cell_type": "markdown",
      "metadata": {
        "id": "Q75rrloIajo7",
        "colab_type": "text"
      },
      "source": [
        "### Obtaining the weak form of the equation\n",
        "The DE given in equation (1), together with proper BCs, is known as the **strong form** of the problem. FEM is a weighted residual type numerical method and it makes use of the **weak form** of the problem. Here we use the **Method of Weighted Residuals (MWR)** to obtain the weak form of equation (1), as explained below.\n",
        "\n",
        "* Residual of a DE is obtained by collecting all the terms on one side of the equation. Residual of the DE\n",
        "given in equation (1) is $$R(x)= u\\frac{dT}{dx}-k\\frac{d^{2}T}{d x^{2}}-f \\;\\;\\;\\; (3)$$\n",
        "by definition, an exact solution of a DE will turn its residual to zero at all points of the problem domain.\n",
        "However, the residual will not in general vanish when an approximate solution is substituted into it.\n",
        "The basic principle in weighted residual methods is to minimize the residual in a weighted integral\n",
        " as follows$$\\int_\\Omega w(x)R(x)dx=0 \\;\\;\\;\\; (4)$$ Substituting equation (3) into (4) one gets $$\\int_\\Omega \\bigg(wu\\frac{dT}{dx}-wk\\frac{d^{2}T}{d x^{2}}-wf\\bigg)dx=0 \\;\\;\\;\\; (5)$$ applying\n",
        "integration by parts to the second term  of equation (5) and substituting the result we get $$\\int_\\Omega \\bigg(wu\\frac{dT}{dx}+k\\frac{dw}{dx}\\frac{dT}{dx}\\bigg)dx=\\int_\\Omega wfdx+\\int_\\Gamma wk\\frac{dT}{dx}n_{x}d\\Gamma  \\;\\;\\;\\; (6)$$ \n",
        "\n",
        "*  As a by-product of integration by parts, the last term of equation (6), called the *boundary integral* is\n",
        "obtained. This term is evaluated at the boundaries ( $\\Gamma$) of the problem domain ( $\\Omega$), where $n_{x}$ is the component of the unit outward normal of the boundary. **Important note: for a 1D problem $n_{x}$ is equal to -1 and 1 at the left and right boundaries of the problem domain, respectively.** The terms on the left hand side of the above equation now includes only first order derivatives of the unknown. This is called the weak form of the problem due to this lower differentiability requirements compared to the original weighted residual\n",
        "statement.\n",
        "\n",
        "\n",
        "\n",
        "### Boundary condition\n",
        "\n",
        "The boundary term on the right hand side of equation (6) is an important part of the FEM formulation. In general the differential equation given in equation (1) can have three different types of boundary conditions. If the dependent variable (unknown) is provided at a boundary of the problem it is called an **Essential (Dirichlet) BC (EBC)**. Providing the derivative of the unknown at a boundary is known as **Natural (Neumann) BC (NBC).** Finally **Mixed (or Robin) BC (MBC)** specifies a combination of EBC and NBC at a boundary.\n",
        "\n",
        "For the differential equation (1) the unknown is $T(x)$ and possible boundary conditions are:\n",
        "\n",
        "* Essential (Dirichlet) BC (EBC):   $\\;\\;\\;\\;T=T_{0}$\n",
        "* Natural (Neumann) BC (NBC):   $\\;\\;\\;\\;k\\frac{dT}{dx}n_{x}=q_{0}$\n",
        "* Mixed (or Robin) BC:    $\\;\\;\\;\\;k\\frac{dT}{dx}n_{x}=\\alpha T+\\beta$\n",
        "\n",
        "\n",
        "\n",
        "**Note**: Transferring a given DE into a weak form  enables to automatically includes NBCs and MBCs into the formulation. This is a unique property of FEM, which is not shared with other numerical methods such as Finite Difference or Finite Volume Method. \n",
        "\n",
        "\\\\\n",
        "\n",
        "**Please notice that:**\n",
        "\n",
        "* For a given EBC, **the nodal unknown** at that boundary is **not actually an unknown**. Therefore **the number of discrete nodal unknowns** that needs to be calculated **reduces by 1**. \n",
        "\n",
        "* For a given NBC or MBC the value inside the boundary integral in equation (6) is simply replaced by the specified value as shown below $$\\mbox{Natural BC (NBC)}\\;\\;\\;\\; \\int_\\Gamma wk\\frac{dT}{dx}n_{x}d\\Gamma=\\int_\\Gamma wq_{0}d\\Gamma$$ $$\\mbox{Mixed BC (MBC)}\\;\\;\\;\\; \\int_\\Gamma wk\\frac{dT}{dx}n_{x}d\\Gamma=\\int_\\Gamma w(\\alpha T+\\beta)d\\Gamma$$ \n",
        "\n",
        "\n",
        ">> **Very important note:** In a 1D problem the boundary of the problem domain consists of only two discrete points, i.e. the right end and the left nodes of the FE mesh. Therefore for a 1D problem, we actually do not need to evaluate integrals as shown above; instead we simply need to evaluate the integrand at the boundary node."
      ]
    },
    {
      "cell_type": "markdown",
      "metadata": {
        "id": "2EyNRrzM0DPC",
        "colab_type": "text"
      },
      "source": [
        "### Constructing an Approximate Solution using Shape Functions\n",
        "\n",
        "\n",
        "Now that we have the weak form available we can substitute the desired approximate solution into it. Approximate solution that is shown in figure (1) can be expressed as: $$T_{app}(x)=\\sum_{j=1}^{N} T_{j}\\phi_{j}(x) \\;\\;\\;\\;\\;\\; (7) $$ where $T_{app}$ is the aproximate solution that we are after. $N$ is the number of nodes in the FE mesh. $T_{j}$'s are the **nodal unknown values** that we are going to calculate at the end of the FE solution\n",
        "and $\\phi_{j}$’s are the shape (basis) functions that are used to construct the approximate solution. The figure below shows these details for a 1D mesh. \n",
        "\n",
        "* As seen from this figure it is possible to associate each shape function with one node of the FE mesh. Shape functions are said to have compact support, i.e. they are nonzero only over the elements which touch the node with which they are associated, everywhere else they are equal to zero. \n",
        "\n",
        "* The equations of basis (shape) functions are as follows:\n",
        "\n",
        "\n",
        "$$\\phi_{i}(x)=   \\left\\{\n",
        "\\begin{array}{ll}\n",
        "      0, & x< x_{i-1} \\;\\;\\;\\mbox{  or  }\\;\\;\\; x> x_{i+1} \\\\\n",
        "      \\frac{x-x_{i-1}}{h_{i-1}} & x_{i-1}\\leq x\\leq x_{i} \\\\\n",
        "      \\frac{x_{i+1}-x}{h_{i}} & x_{i}\\leq x\\leq x_{i+1} \\\\\n",
        "\\end{array} \n",
        "\\right. \\;\\;\\;\\;\\;\\; (8)$$\n",
        "\n",
        "$$\n",
        "h_{i}=x_{i+1}-x_{i}\n",
        "$$\n",
        "\n",
        "\n",
        "* The $j^{th}$ shape function has a value of 1 at the node of the mesh and it is equal to zero at all other nodes.\n",
        "\n",
        "\n"
      ]
    },
    {
      "cell_type": "markdown",
      "metadata": {
        "id": "ZqHDi1lLbHBw",
        "colab_type": "text"
      },
      "source": [
        "<figure>\n",
        "<center>\n",
        "<img src=\"https://lh3.googleusercontent.com/6OdWhc3jN3PDRlVIsxpMYrfl5i9uyRn6tKcPh7w3n06Yb__s_lTEMYaWDTnXEevynUEwl3jjo_tXBFBqA0H0ZInm8-znW7q61xe-U7mFH26N148Rmb7MxjZH2ML0JeJhpssRtaIEw4dzWI7n5MxsOhx9ELVIzOzRpEcdKriS37VARKHt9sxyWjkhmkwHI-efPvak7jJK_LN0931Y-x_9CuLuJvPBcgKYOlDZ8RpDzi3vqTpBSqkmUV8pZ1e1iGmd8dNlhRrBq0i-NCQG5epuA-s_Fuu9WXjKPhoDckY8PFry-hKqjskizM_SSIbWgXItXv4B5FbpvUx7Vm6FkB5IBupWaL3iJmGC3PbV6fIvyh_kLFCU492psM1sefohppaVaxWY9CraD9zT2E9UHHwiABYUENqe_7aEbFJ-9o8-YbyXGUy4UjDcjp7JN4QdZ96_DxzMAxEcH9d67pFoNKvjy1PHr0xRK8_uzA4Verz4SlQymikwcX7B6v0n7bwIY2zzUdfxI1hHJ2kSt46yVgPg5Psrmb4U_wDDKEubMsmbKy219tmzshQQqOcPnP6VFxfLrXiTiDy2qUbxhZl8y_YQ-NS12LAVNNGfyyMFC6h3anTAfpXKZTDsjCWrOs3t0MJE22q--4qVgT_KUzpjqHRUqOgOysiOgWySABLw9q1Pro-QIfFz0ZNmjMQ=w474-h633-no\" width=\"400px\" title=\"FEM approximation\" alt=\"Figure 1\">\n",
        "<figcaption>\n",
        "<b>Figure 2.</b>\n",
        "<i>Shape (basis) functions for a 1D FE mesh of linear elements.</i></figcaption>\n",
        "</center>\n",
        "</figure>"
      ]
    },
    {
      "cell_type": "markdown",
      "metadata": {
        "id": "ieLhO2fQa44o",
        "colab_type": "text"
      },
      "source": [
        "Now we can substitute the approximate solution given in equation (7) into the weak form given in equation (6). In the most commonly used variation of FEM known as Galerkin FEM (GFEM) weight functions in equation (6) are selected to be the same as the shape functions (equation (8) and the above figure). That is to get the $i^{th}$ equation we use:$$w(x)=\\phi_{i}(x) \\;\\;\\;\\;\\;\\; (9)$$\n",
        "\n",
        "Substituting equations (7) and (8) into equation (6) we get:$$\\sum_{j=1}^{N}\\bigg[\\int_\\Omega \\Big(\\phi_{i}u\\frac{d\\phi_{j}}{dx}+k\\frac{d\\phi_{i}}{dx}\\frac{d\\phi_{j}}{dx}\\Big) \\bigg]T_{j}=\\int_\\Omega \\phi_{i}fdx+\\int_\\Gamma \\phi_{i}(SV)d\\Gamma \\;\\;\\;\\;\\;\\; (10)$$\n",
        "\n",
        "where SV is used for $k\\frac{dT}{dx}n_{x}$. \n",
        "\n",
        "### Global equation system\n",
        "To further simplify equation (10), we can use the following compact matrix notation:$$[K]\\{T\\}=\\{F\\}+\\{B\\} \\;\\;\\;\\;\\;\\; (11)$$ which is known as the **global equation system**. $\\{T\\}$ is the vector of **nodal unknowns** with N entries. $[K]$ is the global square **stiffness matrix** of size $N\\times N$ with entries given below: $$K_{ij}=\\int_\\Omega \\Big(\\phi_{i}u\\frac{d\\phi_{j}}{dx}+k\\frac{d\\phi_{i}}{dx}\\frac{d\\phi_{j}}{dx}\\Big) \\;\\;\\;\\;\\;\\; (12)$$\n",
        "\n",
        "$\\{F\\}$ and $\\{B\\}$ are the **global force vector** and **boundary integral vector** of size $N\\times 1$ as follows: $$F_{i}=\\int_\\Omega \\phi_{i}fdx \\;\\;\\;\\;\\;\\; \\mbox{and} \\;\\;\\;\\;\\;\\; B_{i}=\\int_\\Gamma \\phi_{i}(SV)d\\Gamma \\;\\;\\;\\;\\;\\; (13)$$\n",
        "$[K]$ and $\\{F\\}$ integrals are evaluated over the whole problem domain, whereas the boundary integral\n",
        "is evaluated only at the problem boundaries. As you can see we have converted the differential equation (1) into a system of linear equations in equation (11) which can be solved using matrix operations."
      ]
    },
    {
      "cell_type": "markdown",
      "metadata": {
        "id": "VEfnazQ7LWAe",
        "colab_type": "text"
      },
      "source": [
        "## Electrical potential between two parallel plates with Dirichlet boundary conditions\n",
        "\n",
        "Now that we understand how FEM works, we go back to our own problem which is solving the electrical potential between two parallel plates (see figure below). To do this we need so solve the following DE:$$-\\frac{d^{2}U}{d x^{2}}=4\\pi\\rho(x) \\;\\;\\;\\;\\;\\; $$ with these boundary conditions: $$U_{a}=0 \\;\\;\\;\\; U_{b}=1$$ $$a=0 \\;\\;b=1$$\n",
        "\n"
      ]
    },
    {
      "cell_type": "markdown",
      "metadata": {
        "id": "TKXu51qFbjbT",
        "colab_type": "text"
      },
      "source": [
        "\n",
        "<figure>\n",
        "<center>\n",
        "<img src=\"https://lh3.googleusercontent.com/6VA3gcw13Q9pwh5f7h--7er9aXuvMK1HO8S64Q6NaKzKRzpyqmbitnX9P9FAIpWLkDXf1_3Jzjdx3EPzzOiyxmHgL_HZXttC2sNY_gUnbMUD5PQLvxPIBkH4E_Lk1vAk9IoeVc47KFaGXXAqpc5Qu4Mbbhg_ErW3kVa5G-yqgwDEkGOu4y37wu1lpvkY0RFKwSDEJtR9dx1dGX1aOM_sA-sQwoe0ZKtmTZFwmZ84hXIJIT0smr7OVmHiwRsNIw6lRufq6cbcKw7nLKbR7MO4ofwBizvLJuZthy8L1oYZnYh0U1yLgwKsQn1pJR-_1I9xc2plZaUgdWJAKRu6fq0vX_Z1zDezghw9BQlFPwQpPeA8n1X7Q88hoamy8GonRijW6E-G73WFNpgUPNn5TT0tmzqnpfdgdcntLGmA0rAHS3CbfzTFoRsPBmWk0Q9G3Kxc2GpB1JLDB91dmcEPSo2W-XIzVbJY-sXCWIKAv1uoWwbMk4aLP0Rv_7VtowfhvKAdPZCo3bzX2MoCs9DoaFv4v8mrkvvUHIIA4dCumRuQMVLdOa1305EUC2z4I4JzQnjahqyuYBfNRlU64o8c6ETA4kTNj6F3HahCce_lDqti43LTbCNSqvu-yU4fnbkPJcHmupMkrGIZgtfpSrxagzg7YZ8Htdw6R5J1jYUsF3fA-5_N9WANzCq4X3U=w879-h375-no\" width=\"700px\" title=\"FEM approximation\" alt=\"Figure 3\">\n",
        "<figcaption>\n",
        "<b>Figure 2.</b>\n",
        "<i>Two metal plates with a charge density between them. The dots are the nodes $x_{i}$ and the lines connecting the node are the finite elements</i></figcaption>\n",
        "</center>\n",
        "</figure>\n",
        "\n",
        "\n"
      ]
    },
    {
      "cell_type": "markdown",
      "metadata": {
        "id": "TIVoKcKobgEg",
        "colab_type": "text"
      },
      "source": [
        "### Finding K and F\n",
        "As discussed in the previous section, solving this differential equation can be reduced to solving a system of linear equations (see equation 11). For this problem $[K]$ and $\\{F\\}$ (see equation 12 and 13) can be written as: $$K_{ij}=\\int_\\Omega \\Big(\\frac{d\\phi_{i}}{dx}\\frac{d\\phi_{j}}{dx}\\Big)$$ $$F_{i}=\\int_\\Omega \\phi_{i}4\\pi\\rho(x)dx$$ Using the equation of shape functions (see equation 8), and assuming that all the elements have equal sizes of $h_{i}=h$, $[K]$ can be calculated with simple integrations (see equations 23.17-23.19 of the book). The $[K]$ matrix is then obtained as follows (for N=5 for example): \n",
        "$$K=\\begin{bmatrix} \n",
        "\\frac{1}{h} & \\frac{-1}{h} & 0 & 0 & 0 \\\\\n",
        "\\frac{-1}{h} & \\frac{2}{h} & \\frac{-1}{h} & 0 & 0\\\\\n",
        "0 & \\frac{-1}{h} & \\frac{2}{h} & \\frac{-1}{h} & 0\\\\\n",
        "0 & 0 & \\frac{-1}{h} & \\frac{2}{h} & \\frac{-1}{h}\\\\\n",
        "0 & 0 & 0 & \\frac{-1}{h} & \\frac{1}{h}\n",
        "\\end{bmatrix}$$\n",
        "\n",
        "And $\\{F\\}$ is obtained as:\n",
        "\n",
        "$$\n",
        "F=\\begin{bmatrix} \n",
        "\\int_{a}^{b} \\phi_{1}4\\pi\\rho(x)dx \\\\\n",
        "\\int_{a}^{b} \\phi_{2}4\\pi\\rho(x)dx  \\\\\n",
        "\\int_{a}^{b} \\phi_{3}4\\pi\\rho(x)dx \\\\\n",
        "\\int_{a}^{b} \\phi_{4}4\\pi\\rho(x)dx  \\\\\n",
        "\\int_{a}^{b} \\phi_{5}4\\pi\\rho(x)dx \n",
        "\\end{bmatrix}\n",
        "$$\n",
        "\n",
        "**Note:** $\\phi_{i}$ has non-zero value only in $[x_{i-1},x_{i+1}]$ (see figure 2).\n",
        "\n",
        "\n",
        "\n",
        "\n",
        "\n"
      ]
    },
    {
      "cell_type": "markdown",
      "metadata": {
        "id": "Hrr2kHyxtXrd",
        "colab_type": "text"
      },
      "source": [
        "Assuming we have only 5 nodes the system of linear equations can be written as:\n",
        "\n",
        "$$\\begin{bmatrix} \n",
        "K_{11} & K_{12} & K_{13} & K_{14} & K_{15} \\\\\n",
        "K_{21} & K_{22} & K_{23} & K_{24} & K_{25}\\\\\n",
        "K_{31} & K_{32} & K_{33} & K_{34} & K_{35}\\\\\n",
        "K_{41} & K_{42} & K_{43} & K_{44} & K_{45}\\\\\n",
        "K_{51} & K_{52} & K_{53} & K_{54} & K_{55}\n",
        "\\end{bmatrix}\\begin{bmatrix} \n",
        "U_{1} \\\\\n",
        "U_{2}  \\\\\n",
        "U_{3} \\\\\n",
        "U_{4}  \\\\\n",
        "U_{5}\n",
        "\\end{bmatrix}=\n",
        "\\begin{bmatrix} \n",
        "F_{1} \\\\\n",
        "F_{2}  \\\\\n",
        "F_{3} \\\\\n",
        "F_{4}  \\\\\n",
        "F_{5}\n",
        "\\end{bmatrix}+\n",
        "\\begin{bmatrix} \n",
        "B_{1} \\\\\n",
        "0  \\\\\n",
        "0 \\\\\n",
        "0  \\\\\n",
        "B_{5}\n",
        "\\end{bmatrix}$$\n",
        "\n",
        "where the unknowns are $U_{1-5}$.\n",
        "\n",
        "### Applying boundary conditions\n",
        "\n",
        "Here we have Essential (Dirichlet) boundary conditions, i.e. $U$ is given at the boundary. At node 1 the unknown is set to be $U_{1}=U_{a}$. Therefore, $U_{1}$ in the above equation is no longer an unknown and we can get rid of the first equation of the global system. When we delete the first equation we should also delete the first\n",
        "column of $[K]$ and we should modify the force vector on the right accordingly. This process is known as reduction, and for the case we are studying it results in the following reduced $4\\times4$ global system.\n",
        "\n",
        "$$\\begin{bmatrix} \n",
        "K_{22} & K_{23} & K_{24} & K_{25}\\\\\n",
        "K_{32} & K_{33} & K_{34} & K_{35}\\\\\n",
        "K_{42} & K_{43} & K_{44} & K_{45}\\\\\n",
        "K_{52} & K_{53} & K_{54} & K_{55}\n",
        "\\end{bmatrix}\\begin{bmatrix} \n",
        "U_{2}  \\\\\n",
        "U_{3} \\\\\n",
        "U_{4}  \\\\\n",
        "U_{5}\n",
        "\\end{bmatrix}=\n",
        "\\begin{bmatrix} \n",
        "F_{2}-K_{21}U_{a}  \\\\\n",
        "F_{3}-K_{31}U_{a} \\\\\n",
        "F_{4}-K_{41}U_{a}  \\\\\n",
        "F_{5}-K_{51}U_{a}\n",
        "\\end{bmatrix}+\n",
        "\\begin{bmatrix} \n",
        "0  \\\\\n",
        "0 \\\\\n",
        "0  \\\\\n",
        "B_{5}\n",
        "\\end{bmatrix}$$\n",
        "\n",
        "In a similar way the second EBC for node $N$ which is $U_{N}=U_{b}$ can be applied.\n",
        "\n",
        "\n",
        " "
      ]
    },
    {
      "cell_type": "markdown",
      "metadata": {
        "id": "BbOPUDqvxjq8",
        "colab_type": "text"
      },
      "source": [
        "##Questions\n",
        "\n",
        "1. Write your own code to generate the stiffness matrix $[K]$ and force matrix $\\{F\\}$ for the case where $\\rho=1/(4\\pi)$. Use $N=11$ nodes. Some pre-written functions has been given in the code cell below. To find $\\{F\\}$ you need to do some simple integrations which can be done analytically. However, to write your code in a way that can be used for more complicated charge density functions, use the numerical integration in scipy package:\n",
        "\n",
        "```\n",
        "import scipy.integrate\n",
        "scipy.integrate.quad(function,boundary_1,boundary_2)\n",
        "\n",
        "#you can also specify several constants (c1,c2 for example) in your integration\n",
        "scipy.integrate.quad(function,boundary_1,boundary_2,args=(c1, c2))\n",
        "\n",
        "```\n",
        "2. Apply the two boundary conditions by modifying your stiffness matrix $[K]$ and force matrix $\\{F\\}$.\n",
        "\n",
        "3. Find the electrical potential at all nodes by solving the system of linear equations. Plot the electrical potential vs. $x$ and compare it with the exact solution below. \n",
        "\n",
        "```\n",
        "def exact_sol(x):                                 # Analytical solution for charge density=1/(4*pi)\n",
        "  return -x * (x - 3) / 2 \n",
        "```\n",
        "\n",
        "4. Write a function to calculate the electrical potential at any arbitrary point in the problem domain by knowing the electrical field at the nodes. Your function should use $x$, which is an array that containes nodes positions, and $U$, which is an array that contains the value of electrical potential for each node, to calculate the value of electrical potential at any point $x_{p}$. *Hint: use equation (7) to interpolate for points between the nodes.*\n",
        "\n",
        "```\n",
        "def numerical_interpol (x, u, xp):\n",
        "    #y=...\n",
        "  return y\n",
        "\n",
        "```\n",
        "\n",
        "5. Calculate and report the relative global error with the following equation for different number of nodes between $N=11,101,1001$\n",
        "$$\n",
        "\\epsilon=\\log_{10}\\Bigg|\\frac{1}{b-a}\\int_{a}^{b}\\frac{U_{\\text{FEM}}(x)-U_\\text{exact}(x)}{U_{\\text{exact}}(x)}dx\\Bigg|\n",
        "$$\n",
        "\n",
        "6. Consider the following charge density functions and solve for electrical potential:\n",
        "\n",
        "\n",
        "$$\\rho(x)= \\frac{1}{4\\pi}  \\left\\{\n",
        "\\begin{array}{ll}\n",
        "      \\frac{1}{2}-x,  \\\\\n",
        "      \\sin(x) \\\\\n",
        "\\end{array} \n",
        "\\right. $$\n",
        "\n"
      ]
    },
    {
      "cell_type": "code",
      "metadata": {
        "id": "lQYCMpXV2gME",
        "colab_type": "code",
        "colab": {}
      },
      "source": [
        ""
      ],
      "execution_count": 0,
      "outputs": []
    },
    {
      "cell_type": "code",
      "metadata": {
        "id": "LuU6Sh7lnLQo",
        "colab_type": "code",
        "colab": {}
      },
      "source": [
        "import numpy as np\n",
        "import scipy.integrate\n",
        "import matplotlib.pyplot as plt\n",
        "\n",
        "N=11    # number of the nodes\n",
        "NE=N-1  # number of elements or intervals\n",
        "d1=0    \n",
        "d2=1\n",
        "h=(d2-d1)/NE    # length of each interval\n",
        "\n",
        "\n",
        "K=np.zeros([N,N])\n",
        "F=np.zeros([N,1])\n",
        "B=np.zeros([N,1])\n",
        "\n",
        "def f1(x,x1,x2):\n",
        "  return (x-x1)/(x2-x1)\n",
        "\n",
        "def f2(x,x1,x2):\n",
        "  return (x2-x)/(x2-x1)\n",
        "\n",
        "def exact_sol(x):                                 # Analytic solution for charge density=1/(4*pi)\n",
        "  return -x * (x - 3) / 2 \n",
        "    \n",
        "def charge_den(x):              \n",
        "  \n",
        "  # this returns 4pi*charge_density \n",
        "  return 4*np.pi*(1/(4*np.pi))\n",
        "\n",
        "# you can multiply two functions f1(x,x1,x2) and charge_den(x) to define a new function with the following command\n",
        "f1_charge = lambda x, x1, x2 : f1(x,x1,x2) * charge_den(x)\n",
        "\n",
        "\n",
        "#Construct F and K\n",
        "\n",
        "\n",
        "#Apply boundry conditions\n",
        "\n",
        "\n",
        "#Plot the results and compare FEM solution with exact solution"
      ],
      "execution_count": 0,
      "outputs": []
    },
    {
      "cell_type": "code",
      "metadata": {
        "id": "5_XDuXg2aXTr",
        "colab_type": "code",
        "colab": {}
      },
      "source": [
        "#interpolation to find U for an arbitrary point\n"
      ],
      "execution_count": 0,
      "outputs": []
    },
    {
      "cell_type": "code",
      "metadata": {
        "id": "-DgJ46EOlg-I",
        "colab_type": "code",
        "colab": {}
      },
      "source": [
        "# error calculation\n"
      ],
      "execution_count": 0,
      "outputs": []
    }
  ]
}