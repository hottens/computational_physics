{
  "nbformat": 4,
  "nbformat_minor": 0,
  "metadata": {
    "kernelspec": {
      "display_name": "Python 3",
      "language": "python",
      "name": "python3"
    },
    "language_info": {
      "codemirror_mode": {
        "name": "ipython",
        "version": 3
      },
      "file_extension": ".py",
      "mimetype": "text/x-python",
      "name": "python",
      "nbconvert_exporter": "python",
      "pygments_lexer": "ipython3",
      "version": "3.7.3"
    },
    "colab": {
      "name": "Tutorial_B_week_1.ipynb",
      "version": "0.3.2",
      "provenance": [],
      "collapsed_sections": []
    }
  },
  "cells": [
    {
      "cell_type": "markdown",
      "metadata": {
        "id": "xjtK0fzOww7l",
        "colab_type": "text"
      },
      "source": [
        "# Tutorial B: (some) best practices and debugging\n",
        "\n",
        "### Aim of this tutorial\n",
        "To provide you with  basic guidelines for writing good python code. You will learn:\n",
        "\n",
        "- To design the structure of your code by writing 'pseudocode'\n",
        "- Formatting guidelines for clearly written Python code\n",
        "- To fix erroneous code blocks via a more systematic debugging approach\n",
        "- Experience some of the intricacies of python and things can easily go wrong while writing code.\n",
        "- Practice with list comprehensions and functions\n",
        "\n"
      ]
    },
    {
      "cell_type": "markdown",
      "metadata": {
        "id": "0phoe93HSloi",
        "colab_type": "text"
      },
      "source": [
        "## Part I: Structuring your code by writing pseudo-code\n",
        "\n",
        "Under the motto \"Think before you act\", it should come as no surprise that thinking critically about your program's structure before you actually start coding is useful. In this part of the tutorial, you will learn to develop pieces of **pseudocode**, which will help you to speed up your programming while keeping your code structured well. \n",
        "\n",
        "**What pseudocode is**: An informal description of the structure of your program (includes loops, conditional statements, which variables to update) that is *independent of the programming language.*\n",
        "\n",
        "**What pseudocode isn't**: A fully written-out copy of your to-be-written code.\n",
        "\n",
        "There are multiple benefits to writing down pseudocode before coding: not only does it speed up the coding itself, it also helps you to communicate how your code works to other people, helps you to find logical errors in your code, and enables you/others to transfer the code to other languages.\n",
        "\n",
        "#### Example: number-guessing game\n",
        "Consider the following example: You want to create a simple game, where you have to guess a number between 1 and 100, using the following criteria:\n",
        "\n",
        "- If your guess is wrong, you keep guessing (but the program should give a hint on whether your guess was either high or low )\n",
        "- If you guess right, the game should ask you whether you want to play again, and if so: re-initiate a new secret random number, or else: exit.\n",
        "- To taunt the player, have the game keep track and display the number of guesses.\n",
        "\n",
        "The below is an example of pseudocode for this game. Note that there are no set rules in writing pseudocode. Simply try to avoid programming language-specific syntax (a rule which we slightly break here by not ending loops), while highlighting which variables are updated, and how loops are initiated and ended. You can use words, mathematical symbols, operators, etc. if you like.\n",
        "\n",
        "    set secret_number = random int between 1 and 100 \n",
        "    initialize number_guesses as 0\n",
        "    set still_playing as True\n",
        "    \n",
        "    while still_playing is True:\n",
        "\n",
        "        print \"Make a guess between 1 and 100\"\n",
        "        your_guess=ask for input number\n",
        "        add 1 to number_guesses \n",
        "        print \"amount of guesses is:\" number_guesses\n",
        "        if your_guess is equal to secret_number:\n",
        "            print \"You won!\"\n",
        "            ask for input variable play_again \n",
        "            if play_again is \"yes\":\n",
        "                set number_guesses to 0\n",
        "                reset secret_number to random int between 1 and 100\n",
        "            else:\n",
        "                break out of loop\n",
        "\n",
        "        else if your_guess is smaller than secret_number:\n",
        "            print \"Too low!\"\n",
        "        else if your_guess is higher than secret_number:\n",
        "            print \"Too high!\"\n",
        "\n",
        "Chances are that you, even if you are new to the Python language, can translate the above code to actual code already within minutes. All the thinking went into the design of the code: executing the programming itself will go quickly now!\n",
        "\n",
        "\n",
        "\n"
      ]
    },
    {
      "cell_type": "markdown",
      "metadata": {
        "id": "UepeUEpjdVvt",
        "colab_type": "text"
      },
      "source": [
        "### Question 1: Fizz Buzz / Juffen\n",
        "\n",
        "In the game *Fizzbuzz*, a group of people turn-by-turn counts numbers. Whenever the current number is divisable by 3, the player has to say 'Fizz', and when the number is divisable by 5, the player has to say 'Buzz'. Whenever a number is divisable by both 3 and 5 at the same time (e.g. 15), then the player has to say 'Fizz Buzz'. Failing in doing so means that the player is eliminated. \n",
        "\n",
        "Likewise, in the Dutch game 'Juffen', a player has to say 'Juf' when the number contains a 7, or is divisable by 7.\n",
        "\n",
        "1. Choose one of the games to write pseudocode for (they should be rather similar) You can do so in the below code cell (for example, using commented-out code). The game should count up to 250 and follow the rules of the Fizz Buzz/Juffen games, meaning that the game either displays 'fizz,' 'buzz', 'fizz buzz' or the number itself in the Fizz Buzz game, or displays 'Juf' or the number itself in the 'Juffen' game, depending on the value of the number.\n",
        "2. When both you and a neighbor have written a pseudocode, compare them: Can you both read each others codes, and do you find that there are differences in how you approached the problem?\n",
        "3. Try to write the actual python code for the game, based on your pseudocode."
      ]
    },
    {
      "cell_type": "code",
      "metadata": {
        "id": "QiHgaYpoV59X",
        "colab_type": "code",
        "colab": {}
      },
      "source": [
        ""
      ],
      "execution_count": 0,
      "outputs": []
    },
    {
      "cell_type": "markdown",
      "metadata": {
        "id": "ahBiOGFF9qUO",
        "colab_type": "text"
      },
      "source": [
        "## Part II: Best practices, handy python tools and often made mistakes\n",
        "Now that you practiced how to 'build' your code before writing it, some guidelines for clear and concise coding are in place. Before we go on havin g you fix examples of bad coding, we provide some brief guidelines for writing your code below.\n",
        "\n",
        "### Intermezzo: Example guidelines on formatting your code: PEP8\n",
        "PEP8 is a formatting guideline written in the early 2000's. Sticking to it helps to keep your python code legible (a code is read more often than it is written!). You can find a condensed version below, adapted from https://docs.python.org/3/tutorial/controlflow.html#intermezzo-coding-style .\n",
        "\n",
        "\n",
        "- **Use 4-space indentation, and no tabs.** 4 spaces are a good compromise between small indentation (allows greater nesting depth) and large indentation (easier to read). Tabs introduce confusion, and are best left out. \n",
        "- **Wrap lines so that they don’t exceed 79 characters.** This helps users with small displays and makes it possible to have several code files side-by-side on larger displays. If you work on notebooks in Google Colaboratory, then you'll find a line indicating 80 characters\n",
        "- **Use blank lines to separate functions and classes, and larger blocks of code inside functions.**\n",
        "- **When possible, put comments on a line of their own.**\n",
        "- **Use docstrings (text between three double quotes) to explain functions**\n",
        "- **Use spaces around operators and after commas, but not directly inside bracketing constructs**: `a = f(1, 2) + g(3, 4)`.\n",
        "- **Name your classes, functions and variables consistently; a suggested convention is to use UpperCamelCase for classes and lowercase_with_underscores for functions and methods.** Always use `self` as the name for the first method argument.\n",
        "\n",
        "#### Note:\n",
        "\n",
        "- Although not per se mentioned in PEP8, it goes without saying that a clear and descriptive variable name will make your life easier in any case. \n",
        "- Note that there are no set-in-stone conventions. Most importantly, you should try to use any type of convention for naming variables etc. **consistently**. \n",
        "-That being said, using PEP8 is probably a good starting point. There are packages such as `pip8` and `black` that can help format a given python code using PIP8."
      ]
    },
    {
      "cell_type": "markdown",
      "metadata": {
        "id": "U1oUYh6snOgY",
        "colab_type": "text"
      },
      "source": [
        "### List comprehensions and generator expressions\n",
        "You can make your code more legible (and less error-prone) by manipulting lists in efficient ways. In tutorial 1 you assigned list elements. In tutorial 3, you will work with some of the built-in functions for python lists. Here, you will learn about list comprehensions and generator expressions, which will help you to write efficient and clear code.\n",
        "##### List comprehension\n",
        "A very powerful feature in Python is list comprehension. It allows you to create lists in a very concise, compact manner, bypassing the need for writing loops to element-wise fill up the list. A very simple example is:\n",
        " ```\n",
        "squares = [(i+1)**2 for i in range(5)]\n",
        "```\n",
        "**Insert this command in the code-cell below and print the result**. This will create a list containing the squares of the numbers 1 to 5. There is no need to construct multiple lines of code including a for loop to create the list. It is almost readable English, isn't it?\n",
        "\n",
        "There are many more possibilities and you can make it as complicated as you want. Try to use list comprehensions for defining the following lists:\n",
        "- Print the list `odd` that contains all even numbers between 0 and 20 (you can use an `if` and a modulo (`%`) statement)\n",
        "- Print the list `pos` of all numbers in a number range (-10,10), but only print the positive version (that is, multiply all the negative numbers with -1)\n",
        "- Print the list `ssq` of all numbers and their corresponding squares in a number range (-10,10). If a number is negative, print the negative square of the number.\n",
        "\n",
        "\n",
        "##### Generators\n",
        "A related concept is the concept of generators. You can apply generators by using round brackets instead of square brackets in the example of the squares of 1-5 shown above. It will not generate the actual values, but only create a recipe to generate them when needed. An example is the `range` function we encountered before. This can save you lots of memory usage. Try the following:\n",
        "\n",
        "- Pick one of the above comprehensions\n",
        "- Build a generator using the same expression (give it a different name)\n",
        "- Print the both the generator and the output of the list comprehension, and their `types`\n",
        "- Loop over the contents of the generator and the output of the comprehension, and print each element. Once finished, print the contents of the generator (see hint below). What do you see? Can you explain this?\n",
        "\n",
        "\n",
        "**Note** A generator can be converted to a lists or tuples by using `list(generator)` or `tuple(generator)` respectively."
      ]
    },
    {
      "cell_type": "code",
      "metadata": {
        "id": "ve4R0dxbnT8R",
        "colab_type": "code",
        "colab": {}
      },
      "source": [
        ""
      ],
      "execution_count": 0,
      "outputs": []
    },
    {
      "cell_type": "markdown",
      "metadata": {
        "id": "q1EAPUoRrmy6",
        "colab_type": "text"
      },
      "source": [
        "### Functions\n",
        "\n",
        "Functions are reusable pieces of code that increase readability and modularity of your programs. They execute certain statements, possibly based on input arguments. At this point in the tutorials, you have already used many different built-in functions (take the `print()` function, for example). It is also possible to define your own functions using the `def` statement. For example\n",
        "```\n",
        "def sayHello():\n",
        "    print('Hello there!')\n",
        "```\n",
        "which can be called by writing `sayHello()`. It will then print 'Hello there!' to the screen. \n",
        "\n",
        "#### Functions with input and output\n",
        "You can write functions that have input arguments and/or return some value\n",
        "```\n",
        "def power(number, power):\n",
        "    return number**power\n",
        "```\n",
        "The function now requires one input argument, it is called by `y=power(x,p)` which will assign the value of `x**p` to the variable `y`.  You will get an error if no argument is given. To prevent this, it is also possible to give a default value or *keyword argument*, which value will then be taken when no input argument is specified:\n",
        "```\n",
        "def power(number=1, power=0):\n",
        "    return number**power\n",
        "```\n",
        "Now, `power()` will return the value 1, but if an argument is given, the number will be used.\n",
        "\n",
        "***Note:*** It is possible to make combinations, where part of the input arguments have default values, e.g. defining `power(number, power=0)`. However, be careful to define `power(number=1, power)` may give problems (you may try this).\n",
        "\n",
        "##### Flexible input arguments\n",
        "Flexible arguments can be used if the number of input arguments is not necessarily fixed. Indicating a * before a variable name gives variable-length single-value input (similar to MATLAB's varargin), ** gives variable-length keyword-value pairs inputs. Both can be empty. Applications include functions where additional settings can be specified, in no particular order. The example below illustrates how the function treats the input arguments.\n",
        "```\n",
        "def print_arguments(*args, **kwargs):\n",
        "    for a in args:\n",
        "        print(a)\n",
        "    for a in kwargs:\n",
        "        print(a, kwargs[a])\n",
        "```\n",
        "\n",
        "### Exercises\n",
        "1. Define and execute the functions `sayHello`, `power` and `print_arguments` above. Play with the inputs to learn how it works.\n",
        "2. Why would it be bad to define a function like `power(number=1, power)`?\n",
        "3. Define the list `list=[10, 2]` and the dictionairy `dict={'number': 10, 'power': 2}` and call the `power` functions above with `power(*list)` or `power(**dict)`. Note that lists (or tuples for that matter) require a single asterisk, and dictionairies require a double asterisk.\n",
        "4. Write a function that takes as input a number, and returns true or false depending on whether the number is 'perfect'. This means that all of the number's positive divisors summed together should form the original number itself. For example: 6 is a perfect number, since it is divisable by 1 2 and 3, and since 1+2+3=6.\n",
        "5. Apply your function by building a list that contains all numbers that are 'perfect' between 0 and 100000. You can also use a list comprehension\n",
        "6. You can find some more practice problems revolving around functions on https://www.w3resource.com/python-exercises/python-functions-exercises.php . Pick one or two that you like, and practice some more with defining functions.\n",
        "\n"
      ]
    },
    {
      "cell_type": "code",
      "metadata": {
        "id": "Tv1zMgFEd0sZ",
        "colab_type": "code",
        "colab": {}
      },
      "source": [
        ""
      ],
      "execution_count": 0,
      "outputs": []
    },
    {
      "cell_type": "markdown",
      "metadata": {
        "id": "zpKzGYu7ww7p",
        "colab_type": "text"
      },
      "source": [
        "\n",
        "\n",
        "\n",
        "### Some often-made mistakes (and how not to make them)\n",
        "in this part of the tutorial, we will ask you to purposedly make some mistakes, such that you can learn how to fix (and prevent) them.\n",
        "\n",
        "### Exercises:\n",
        "\n",
        "Use the below code cell (or insert additional cells) to do the below short exercises.\n",
        "- Assign a numerical value to a variable that has a name starting with a number. What does the code cell return upon execution, and why is this a bad idea?\n",
        "- Make a list `some_list = [1 2 3 4 5 6 7 8]`, and build a loop over its contents. Add a statement to the loop (use `%` for example) that removes a number from the list if it is even. Why should you never do this?\n",
        "\n",
        "#### Exercises on memory allocation\n",
        "- Set a variable `a` equal to 10, and copy the variable into the variable `b` via a direct assignment (`b = a`). Now, `print` the variable `a`. Did anything change? \n",
        "- Repeat the above using a list: assign a first list, for example `list_a = ['ab', 'cd',['ef', 'gh']]`, and copy it into a second list, named `list_b`. If you change any of the contents of the sub-list in `list_b` (i.e. use `list_b[2][1]`) and print `list_a`, did anything change? \n",
        "- Chances are that you found that the above alteration of `list_b` changed `list_a`! This issue arises from the way in which Python assigns memory slots to objects. You can check whether variables point to the same memory slot through `print(hex(id(variable_name)))`. Experiment using this set of commands to determine whether both `list_a`,  `list_b` and their sub-lists point to the same memory slots.\n",
        "- Repeat the previous list assignments, but first import the `copy` package, and make a copy of `list_a` using `list_b = copy.deepcopy(list_a)`. This package makes a new copy in the memory of a variable, and helps you evade this problem.\n",
        "\n",
        "\n",
        "\n",
        "Some of these examples were adapted from: https://docs.python-guide.org/writing/style/ , where you can find more info on 'proper' programming style.\n",
        "\n",
        "\n",
        "\n"
      ]
    },
    {
      "cell_type": "code",
      "metadata": {
        "id": "g-MQaNsMjfWf",
        "colab_type": "code",
        "colab": {}
      },
      "source": [
        ""
      ],
      "execution_count": 0,
      "outputs": []
    },
    {
      "cell_type": "markdown",
      "metadata": {
        "id": "FJZKWdv4jhyt",
        "colab_type": "text"
      },
      "source": [
        "### Writing better code: Try to fix the below examples of bad/inefficient code"
      ]
    },
    {
      "cell_type": "code",
      "metadata": {
        "id": "dETUisOuww7q",
        "colab_type": "code",
        "colab": {}
      },
      "source": [
        "#The below examples are cases where the built-in syntax of python is more useful\n",
        "#than what you might be tempted to write. How can you improve the code snippets?\n",
        "\n",
        "################## Example 1\n",
        "a = [1, 2, 3, 4]\n",
        "\n",
        "#BAD;\n",
        "for i in range(len(a)):\n",
        "    print(a[i])\n",
        "\n",
        "#BETTER:\n",
        "\n",
        "\n",
        "################## Example 2\n",
        "#Try to simplify the below conditional statements using if/ if not\n",
        "#BAD:\n",
        "attr=None\n",
        "if attr == True:\n",
        "    print('True!')\n",
        "if attr == None:\n",
        "    print('attr is None!')\n",
        "\n",
        "#BETTER:\n",
        "\n",
        "    \n",
        "################## Example 3\n",
        "# Filter elements greater than 4. \n",
        "a = [1, 2, 3, 4, 5, 6, 7,8]\n",
        "\n",
        "#BAD:\n",
        "for i in a:\n",
        "    if i > 4:\n",
        "        a.remove(i)\n",
        "print(a)\n",
        "\n",
        "#BETTER:\n",
        "\n",
        "\n",
        "\n",
        "################## Example 4\n",
        "# Check if numbers are equal\n",
        "x=1\n",
        "y=1\n",
        "#BAD:\n",
        "def checkxy(x,y):\n",
        "    if x == y:\n",
        "        return True\n",
        "    else:\n",
        "        return False\n",
        "checkxy(x,y)\n",
        "#BETTER:\n",
        "\n",
        "\n",
        "################## Example 5\n",
        "# Copy a list\n",
        "first_list = [' a ', ' b ', ' c ', ' d ', ' e ']\n",
        "other_list = []\n",
        "\n",
        "\n",
        "#BAD:\n",
        "i = 0\n",
        "while i < len(first_list):\n",
        "    other_list.append(first_list[i])\n",
        "    i = i + 1 \n",
        "    \n",
        "#BETTER:\n",
        "\n",
        "\n",
        "\n"
      ],
      "execution_count": 0,
      "outputs": []
    },
    {
      "cell_type": "markdown",
      "metadata": {
        "id": "tJlmt_9oaT65",
        "colab_type": "text"
      },
      "source": [
        "#### Takeaways:\n",
        "\n",
        "- As a rule of thumb: if you suspect that your piece of code is inefficient, it probably is (that doesn't always have to be a problem). \n",
        "- Corollary: if you wonder whether Python has a more simple way of achieving what you are trying to do, the answer is probably: yes. See, for example, [the overview of built-in python functions](https://) for an overview of functions that might exactly do what you are trying to code by hand.\n"
      ]
    },
    {
      "cell_type": "markdown",
      "metadata": {
        "id": "-W1TltfDcOjm",
        "colab_type": "text"
      },
      "source": [
        "## Part III: Some notes on debugging\n",
        "\n",
        "One of the most puzzling and frustrating aspects of programming is debugging. Below we provide some tips for debugging your code, which might come in handy throughout this course.\n",
        "\n",
        "#### Debugging tips:\n",
        "\n",
        "##### General advice:\n",
        "- **Try to think of your code structure before writing (i.e. write pseudocode first!)**. See the above section on pseudocode.\n",
        "- **Build in simple checks while working on your code, and remove them afterwards**. Example: Let's say your code operates on an array of a certain size, or calculates a quantity that has a known property (for example, always larger than a certainva lue). Build in simple if-statements that print an error message (or stop the code) when the array size changes, or the value of the quantity reaches a forbidden value. This helps you to track down problems in an earlier stage (don't forget to remove the checks afterwards!)\n",
        "- **Use logging while developing your code.** Have your code print things like indices, lists/their elements, data types, memory locations (in case you copy variables into different variables) which part of the code it is currently executing, etc. You can always remove the statements afterwards. This helps you confirm that the code is indeed operating according to plan. Alternatively, you can print these statements to a file, or use a dedicated logging module.\n",
        "- **Change one thing at a time**. Generally, don't run the code only after writing large chunks. Where possible, try to run the code as often as possible to track bugs earlier on.\n",
        "\n",
        "##### When encountering a Python error message:\n",
        "- **Use the internet (yes really)**. A perk of Python is that its error messages are recognizable. You can often paste your error message into Google, and search on dedicated programming-help websites like StackOverflow for where your error comes from, and how to solve it.\n",
        "- **Print the data types and output of the involved variables**. Oftentimes, you are trying an operation on a data type that doesn't allow said operation, or you are trying to reconcile objects with different dimensions. `print(type())` and `print(size())` are your friends.\n",
        "\n",
        "##### When your code does not do what it should do, but you don't know why\n",
        "\n",
        "- **First of all: try to reproduce the problem**. A large part in finding where the erroneous behavior comes from consists of finding the circumstances during which the behavior occurs. Look critically at your input, and try to print variables and output while you are waiting for your bug to occur.\n",
        "- **Try to come up with a good test case:** Is there any expected output when you provide a specific input?\n",
        "- **Execute the smallest possible part of the code that leads to reproduction of your bug**. Once you have found an input that consistently leads to a bug and have a reference output,  try to narrow down on the part of the code where the erroneous output comes from. This process is iterative in the sense that it might in the end lead you down into different functions etc.\n",
        "- **Tackling the specific bug:** At this point, there are many, many things that might have gone wrong. Use a combination of logging, checks and visualizations (i.e. printing or plotting) to determine what your exact problem is. An option that we will not discuss here, but which is available (and used) is the python debugger. For instructions on how to use the python debugger, see for example \n",
        "\n",
        "\n",
        "\n"
      ]
    },
    {
      "cell_type": "markdown",
      "metadata": {
        "id": "KeHtmNPM19bu",
        "colab_type": "text"
      },
      "source": [
        "### From here on:\n",
        "\n",
        "In this tutorial, we have given you an overview of programming concepts, such as pseudocode, functions, python-specific aids (list comprehensions), shown some you often-made mistakes, and highlighted some debugging strategies. If you got to this point of the tutorial and still have plenty of time left, consider applying these skills to some of the problems on https://projecteuler.net/archives . These problems are mathematical in nature, and can be solved by writing a simple piece of python code, where you will need many of the concepts that you have learned during this and the previous tutorial.\n"
      ]
    }
  ]
}